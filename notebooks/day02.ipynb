{
 "cells": [
  {
   "cell_type": "markdown",
   "id": "8f5af31c-3772-4656-b60c-e462bdb90a67",
   "metadata": {},
   "source": [
    "# GIT"
   ]
  },
  {
   "cell_type": "markdown",
   "id": "5cd87586-63a0-4ea1-ac7d-fad6ffcd4a3c",
   "metadata": {},
   "source": [
    "Q) What is **GIT** ?<br>\n",
    "A) **GIT** is a free and open-source distributed version control system used to track changes in source code during software development. It's a powerful tool that allows developers to collaborate on projects, manage different versions of their files, and easily revert to previous states if needed. "
   ]
  },
  {
   "cell_type": "markdown",
   "id": "aac203cb-4b3c-4272-9ff7-6e8dc085c323",
   "metadata": {},
   "source": [
    "**1) CONFIG COMMANDS :**\n",
    "\n",
    "i) git config --global user.name \"ENTER YOUR USERNAME\" <br>\n",
    "--> Whenever you change something on your repository , the change will be made and displayed with this username , global means for everytime it will reamin same .\n",
    "<br>\n",
    "\n",
    "ii) git config --global user.email \"ENTER YOUR EMAIL ADDRESS\"<br>\n",
    "--> Whenever you change something on your repository , the change will be made and displayed with this email-adress , global means for everytime it will reamin same .\n",
    "<br>\n",
    "\n",
    "iii) git config --list :<br>\n",
    "--> Complete list of github configuration like the username , email id , supporters etc."
   ]
  },
  {
   "cell_type": "markdown",
   "id": "aa23ca87-cca7-4923-a261-b524a8b114b6",
   "metadata": {},
   "source": [
    "**2) STATUS and CLONE :**\n",
    "\n",
    "i) git status :<br>\n",
    "--> Displays the state of code like - Untracked(new files that git doesnt yet track), Modified(changed), staged(file is ready to be committed), unmodified(unchanged)  \n",
    "\n",
    "ii) git clone https://github.com/GITHUB-ACCOUNT-NAME/GITHUB-REPO-NAME.git<br>\n",
    "--> It helps to clone a remote repo existing on github to our local computer."
   ]
  },
  {
   "cell_type": "markdown",
   "id": "8b76bd22-e639-4cd9-87d1-61fc1a88c32c",
   "metadata": {},
   "source": [
    "**3) Add, COMMIT and PUSH :**\n",
    "\n",
    "i) git add <filename> :<br>\n",
    "--> adds a new or unchanged file in your working directory to the git staging area\n",
    "\n",
    "ii) git commit -m \"ENTER-THE-MESSAGE-YOU-WANT-TO-DISPLAY-FOR-THAT-COMMIT\"<br>\n",
    "--> it is the record of change\n",
    "\n",
    "iii) git push origin(default) main(branch)<br>\n",
    "--> upload local repo content to remote repo\n",
    "\n",
    "iv) git push -u(upstream) origin main :<br>\n",
    "--> Everytime the changes will be pushed to origin main i.e now you can only write git push to push new changes fromnow onwards"
   ]
  },
  {
   "cell_type": "markdown",
   "id": "b57c12f0-651c-4cb4-ae10-9ea8bbdc1eeb",
   "metadata": {},
   "source": [
    "**4) INIT COMMANDS :**\n",
    "\n",
    "i) git init :<br>\n",
    "--> Used to create a new git repository\n",
    "\n",
    "ii) git remote add origin https://github.com/GITHUB-ACCOUNT-NAME/GITHUB-REPO-NAME.git<br>\n",
    "--> Used to add a new remote connection from your local computer to the remote git repository.\n",
    "\n",
    "iii) git remote -v :<br>\n",
    "--> to check our current remote repository"
   ]
  },
  {
   "cell_type": "markdown",
   "id": "85eb08d6-c5a3-406f-8dba-6455d337e694",
   "metadata": {},
   "source": [
    "**5) BRANCH COMMANDS :**\n",
    "\n",
    "i) git branch :\n",
    "--> to check our current working branch\n",
    "\n",
    "ii) git branch -M main(ENTER-THE-NEW-NAME) :\n",
    "--> to rename any branch \n",
    "\n",
    "iii) git checkout -b <NEW-BRANCH-NAME> :\n",
    "--> to create a new branch \n",
    "\n",
    "iv) git checkout <NAME-OF-BRANCH> :\n",
    "--> to change the branch\n",
    "\n",
    "v) git checkout -d <NAME-OF-BRANCH-TO-DELETE> :\n",
    "--> to delete the branch"
   ]
  },
  {
   "cell_type": "markdown",
   "id": "22493d1d-3a09-413f-b432-b822b51745a4",
   "metadata": {},
   "source": [
    "**6) MERGING COMMANDS :(You can do it by pull request directly on github also)**\n",
    "\n",
    "i) git diff <BRANCH-NAME> :\n",
    "--> to check difference between current and given named branch\n",
    "\n",
    "ii) git merge <BRANCH-NAME> :\n",
    "--> to merge the changes from given named branch to current branch\n",
    "\n",
    "iii) git pull origin main :\n",
    "--> used to fetch and download content from a remote repo and immediately update the local repo to match the content\n",
    "\n",
    "RESOLVING MERGE CONFLICTS :\n",
    "--> You will have to do it manually"
   ]
  },
  {
   "cell_type": "markdown",
   "id": "50eca1de-4154-4aef-bb17-736279352b53",
   "metadata": {},
   "source": [
    "**7) UNDOING CHANGES :**\n",
    "\n",
    "i) git reset <FILE-NAME> / get reset\n",
    "--> to undo the added changes that are still not commited \n",
    "\n",
    "ii) git reset HEAD~1 :\n",
    "--> even if you commit a change you can revert it back to unstaged changes \n",
    "\n",
    "iii) git reset <COMMIT-HASH> :\n",
    "--> to revert the commited change from an particular commit number\n",
    "\n",
    "iV) git log :\n",
    "--> to view all the commits that we have done"
   ]
  },
  {
   "cell_type": "markdown",
   "id": "c7b8ac86-47f7-4fde-9ae5-a8fa4c25db51",
   "metadata": {},
   "source": [
    "**8) FORK :**<br>\n",
    "A fork is new repository that is complete copy of repository ."
   ]
  },
  {
   "cell_type": "markdown",
   "id": "479ff5f3-eff8-4d48-8550-ff33ed43e60c",
   "metadata": {},
   "source": [
    "# LINUX COMMANDS "
   ]
  },
  {
   "cell_type": "markdown",
   "id": "986465d7-9fa5-4272-991c-8b24e6963711",
   "metadata": {},
   "source": [
    "1)  ls                     # List files and directories in the current folder<br>\n",
    "    ls -l                  # Long listing: permissions, owner, size, modified date<br>\n",
    "    ls -a                  # List all files including hidden ones (starting with .)\n",
    "\n",
    "2)  pwd                    # Print the full path of your current working directory\n",
    "\n",
    "3)  cd /etc                # Change directory to /etc<br>\n",
    "    cd ..                  # Move up one level<br>\n",
    "    cd ~                   # Go to home directory\n",
    "\n",
    "4)  mkdir test             # Create a new directory named \"test\"<br>\n",
    "    mkdir -p a/b/c         # Create nested directories \"a/b/c\"\n",
    "\n",
    "5)  mv file.txt backup/    # Move file.txt to backup/ directory<br>\n",
    "    mv old.txt new.txt     # Rename old.txt to new.txt\n",
    "\n",
    "6)  cp a.txt b.txt         # Copy a.txt to b.txt<br>\n",
    "    cp -r dir1 dir2        # Recursively copy folder dir1 to dir2\n",
    "\n",
    "7)  rm file.txt            # Delete file.txt<br>\n",
    "    rm -r folder/          # Recursively delete folder and its contents<br>\n",
    "    rm -f file.txt         # Force delete file.txt without confirmation\n",
    "\n",
    "8)  touch newfile.txt      # Create a new empty file named newfile.txt\n",
    "\n",
    "9)  ln file.txt link1      # Create a hard link named link1 pointing to file.txt<br>\n",
    "    ln -s file.txt link2   # Create a symbolic (soft) link named link2 to file.txt\n",
    "\n",
    "10) clear                  # Clear the terminal screen\n",
    "\n",
    "11) cat file.txt              # Display the contents of file.txt in the terminal<br>\n",
    "    cat file1 file2 > merged  # Combine file1 and file2 into merged\n",
    "\n",
    "12) echo \"Hello, World!\"      # Print text to the terminal<br>\n",
    "    echo $HOME                # Print the value of the HOME environment variable\n",
    "\n",
    "13) less file.txt             # View contents page-by-page, allows scrolling (use q to quit)\n",
    "\n",
    "14) man ls                    # Show the manual (help) page for the ls command\n",
    "\n",
    "15) uname                    # Print the system name (e.g., Linux)<br>\n",
    "    uname -a                 # Print all system information (kernel, architecture, etc.)\n",
    "\n",
    "16) whoami                   # Display the current logged-in username\n",
    "\n",
    "17) tar -cvf archive.tar dir/   # Create a tar archive of directory \"dir/\"<br>\n",
    "    tar -xvf archive.tar        # Extract the contents of archive.tar\n",
    "\n",
    "18) grep \"text\" file.txt        # Search for \"text\" inside file.txt<br>\n",
    "    grep -r \"function\" ./src    # Recursively search for \"function\" in the src/ folder\n",
    "\n",
    "19) head file.txt               # Show the first 10 lines of file.txt<br>\n",
    "    head -n 5 file.txt          # Show the first 5 lines\n",
    "\n",
    "20) tail file.txt               # Show the last 10 lines of file.txt<br>\n",
    "    tail -n 20 file.txt         # Show the last 20 lines<br>\n",
    "    tail -f log.txt             # Continuously display new lines added to log.txt (live logs)\n",
    "\n",
    "21) diff file1.txt file2.txt        # Show line-by-line differences between two text files\n",
    "\n",
    "22) cmp file1.bin file2.bin         # Compare two files byte by byte; good for binaries\n",
    "\n",
    "23) comm file1.txt file2.txt        # Compare two sorted files line-by-line, showing unique and common lines\n",
    "\n",
    "24) sort names.txt                  # Sort the lines in names.txt alphabetically<br>\n",
    "    sort -r marks.txt               # Sort lines in reverse order\n",
    "\n",
    "25) export MYVAR=\"value\"           # Set an environment variable MYVAR for the current session<br>\n",
    "    echo $MYVAR                    # Display the value of MYVAR\n",
    "\n",
    "26) zip archive.zip file1 file2    # Compress file1 and file2 into archive.zip<br>\n",
    "    zip -r project.zip folder/     # Recursively zip a folder\n",
    "\n",
    "27) unzip archive.zip              # Extract contents of archive.zip\n",
    "\n",
    "28) ssh user@192.168.1.10          # Connect to a remote system over SSH (secure shell)\n",
    "\n",
    "29) service apache2 start          # Start the Apache2 service<br>\n",
    "    service apache2 status         # Check the status of Apache2 service\n",
    "\n",
    "30) ps                             # Show processes running in current shell<br>\n",
    "    ps aux                         # Show all processes on the system with detailed info<br>\n",
    "    ps -ef | grep nginx            # Filter processes to find those related to 'nginx'\n",
    "\n",
    "31) kill 1234                      # Terminate the process with PID 1234<br>\n",
    "    killall firefox                # Kill all processes with the name \"firefox\"\n",
    "\n",
    "32) df                             # Show disk usage for all mounted filesystems<br>\n",
    "    df -h                          # Show human-readable disk usage (e.g., in GB/MB)\n",
    "\n",
    "33) mount /dev/sdb1 /mnt/usb      # Mount the device /dev/sdb1 to /mnt/usb directory<br>\n",
    "    umount /mnt/usb               # Unmount the device from /mnt/usb\n",
    "\n",
    "34) chmod +x script.sh            # Make script.sh executable<br>\n",
    "    chmod 755 script.sh           # Set read/write/execute for owner, read/execute for others\n",
    "\n",
    "35) chown user:group file.txt     # Change owner of file.txt to \"user\" and group to \"group\"\n",
    "\n",
    "36) ifconfig                      # Show network interfaces and their IPs (deprecated, use `ip a`)<br>\n",
    "    ip a                          # Modern command to view IP address and interface info\n",
    "\n",
    "37) traceroute google.com         # Show the route and hops your packets take to reach google.com\n",
    "\n",
    "38) wget https://example.com/file.zip  # Download file.zip from the internet using HTTP/HTTPS\n",
    "\n",
    "39) ufw enable                    # Enable UFW (Uncomplicated Firewall)<br>\n",
    "    ufw allow 22                  # Allow incoming SSH (port 22)\n",
    "\n",
    "40) iptables -L                   # List all current firewall rules (for advanced firewall control)\n",
    "\n",
    "41) sudo apt update                   # Update package list (Debian/Ubuntu)<br>\n",
    "    sudo apt install nginx            # Install Nginx using APT (Debian/Ubuntu)<br>\n",
    "    sudo yum install httpd            # Install Apache (CentOS/RHEL using YUM)<br>\n",
    "    sudo pacman -S vim                # Install Vim using Pacman (Arch Linux)\n",
    "\n",
    "42) sudo command                      # Run any command as superuser (root), e.g., `sudo rm -rf /protected`\n",
    "\n",
    "43) cal                               # Display the current month's calendar\n",
    "    cal 2025                          # Show full calendar for the year 2025\n",
    "\n",
    "44) alias ll='ls -la'                 # Create an alias 'll' for 'ls -la' (adds shortcut command)\n",
    "    unalias ll                        # Remove alias 'll'\n",
    "\n",
    "45) dd if=/dev/sda of=backup.img bs=4M  # Copy raw data from /dev/sda to backup.img with 4MB block size (used for backups/cloning disks)\n",
    "\n",
    "46) whereis python                    # Locate the binary, source, and man page of 'python'\n",
    "\n",
    "47) whatis ls                         # Show a one-line description of the ls command\n",
    "\n",
    "48) top                               # Display real-time list of running processes and system usage (like Task Manager)\n",
    "\n",
    "49) sudo useradd arya                # Add a new user named arya\n",
    "    sudo useradd -m rujul            # Add a new user rujul and create a home directory\n",
    "\n",
    "50) sudo passwd arya                 # Set or change the password for user 'arya'"
   ]
  },
  {
   "cell_type": "markdown",
   "id": "a478893b-98df-4695-9500-d8f4cb333679",
   "metadata": {},
   "source": [
    "# PYTHON VENVS"
   ]
  },
  {
   "cell_type": "markdown",
   "id": "2c9b6760-b3b7-400c-a172-32d34366aa15",
   "metadata": {},
   "source": [
    "Q) What is **VENV** ? <br>\n",
    "--> A virtual environment **(venv)** in Python is a self-contained directory that contains a Python installation along with its own independent set of installed packages. <br>\n",
    "--> It allows you to isolate dependencies for different projects, so they don’t interfere with each other."
   ]
  },
  {
   "cell_type": "markdown",
   "id": "97c10a51-7ea3-429a-91d8-23ad75f63461",
   "metadata": {},
   "source": [
    "1. Create a virtual environment<br>\n",
    "--> python -m venv myenv<br>\n",
    "myenv is the name of the environment (you can name it anything).<br>\n",
    "This creates a folder with its own python, pip, and local site-packages."
   ]
  },
  {
   "cell_type": "markdown",
   "id": "534338ae-f05b-4353-bb7b-2cf957a6e8b1",
   "metadata": {},
   "source": [
    "2. Activate the virtual environment<br>\n",
    "--> myenv\\Scripts\\activate"
   ]
  },
  {
   "cell_type": "markdown",
   "id": "c6883660-d294-4cd2-949c-cf1c09b42223",
   "metadata": {},
   "source": [
    "3. Deactivate the virtual environment<br>\n",
    "--> deactivate"
   ]
  },
  {
   "cell_type": "markdown",
   "id": "743f1768-406a-4338-91a0-de4669d9aa14",
   "metadata": {},
   "source": [
    "4. Install packages inside the virtual environment<br>\n",
    "--> pip install package-name == version"
   ]
  },
  {
   "cell_type": "markdown",
   "id": "1492f607-5823-4c16-a3ce-9e2be84167a1",
   "metadata": {},
   "source": [
    "5. Check installed packages<br>\n",
    "--> pip list"
   ]
  },
  {
   "cell_type": "markdown",
   "id": "67e96926-e079-4d8f-8de5-34e261ce7e5d",
   "metadata": {},
   "source": [
    "6. Freeze the environment to a requirements file<br>\n",
    "--> pip freeze > requirements.txt<br>\n",
    "This generates a list of installed packages and their versions."
   ]
  },
  {
   "cell_type": "markdown",
   "id": "e2e64212-52c2-4478-9c5f-5ba294e9db99",
   "metadata": {},
   "source": [
    "7. Install from a requirements.txt file<br>\n",
    "--> pip install -r requirements.txt"
   ]
  }
 ],
 "metadata": {
  "kernelspec": {
   "display_name": "Python 3 (ipykernel)",
   "language": "python",
   "name": "python3"
  },
  "language_info": {
   "codemirror_mode": {
    "name": "ipython",
    "version": 3
   },
   "file_extension": ".py",
   "mimetype": "text/x-python",
   "name": "python",
   "nbconvert_exporter": "python",
   "pygments_lexer": "ipython3",
   "version": "3.11.7"
  }
 },
 "nbformat": 4,
 "nbformat_minor": 5
}
