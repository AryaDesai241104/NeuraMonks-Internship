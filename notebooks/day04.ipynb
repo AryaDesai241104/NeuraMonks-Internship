{
 "cells": [
  {
   "cell_type": "markdown",
   "id": "9a65f5b1-3daa-4c6a-b957-c3d01e974607",
   "metadata": {},
   "source": [
    "# NUMPY"
   ]
  },
  {
   "cell_type": "markdown",
   "id": "67b38b84-6651-490a-a341-00dddcf043b6",
   "metadata": {},
   "source": [
    "### Difference Between NumPy Array and Python List\n",
    "\n",
    "### 1. Type & Structure\n",
    "\n",
    "| Feature      | Python List                        | NumPy Array                         |\n",
    "|--------------|------------------------------------|-------------------------------------|\n",
    "| Type         | Built-in data structure (`list`)   | Provided by NumPy (`numpy.ndarray`) |\n",
    "| Data Types   | Can hold different data types       | Homogeneous (same data type only)   |\n",
    "\n",
    "---\n",
    "\n",
    "### 2. Performance\n",
    "\n",
    "| Feature      | Python List                        | NumPy Array                         |\n",
    "|--------------|------------------------------------|-------------------------------------|\n",
    "| Speed        | Slower for numerical operations     | Much faster (uses C under the hood) |\n",
    "| Memory Usage | Higher                             | More efficient                      |"
   ]
  },
  {
   "cell_type": "code",
   "execution_count": 3,
   "id": "b4ea4776-9636-48b2-b0b8-2eb57253b312",
   "metadata": {},
   "outputs": [
    {
     "name": "stdout",
     "output_type": "stream",
     "text": [
      "NumPy Time: 0.00099945068359375\n",
      "List Time: 0.04248452186584473\n"
     ]
    }
   ],
   "source": [
    "import numpy as np\n",
    "import time\n",
    "\n",
    "# NumPy array\n",
    "arr = np.arange(1000000)\n",
    "start = time.time()\n",
    "arr_sum = arr + 5\n",
    "print(\"NumPy Time:\", time.time() - start)\n",
    "\n",
    "# Python list\n",
    "lst = list(range(1000000))\n",
    "start = time.time()\n",
    "lst_sum = [x + 5 for x in lst]\n",
    "print(\"List Time:\", time.time() - start)"
   ]
  },
  {
   "cell_type": "markdown",
   "id": "569c02f4-bba0-4140-91bf-18ea0b488b65",
   "metadata": {},
   "source": [
    "### 3. Functionality\n",
    "\n",
    "| Feature           | Python List            | NumPy Array                   |\n",
    "| ----------------- | ---------------------- | ----------------------------- |\n",
    "| Mathematical Ops  | Manual via loops       | Vectorized (element-wise) ops |\n",
    "| Broadcasting      | ❌ Not supported        | ✅ Supported                   |\n",
    "| Matrix Operations | Not directly supported | Efficiently supported         |"
   ]
  },
  {
   "cell_type": "code",
   "execution_count": 5,
   "id": "153ca801-9852-4fb2-b121-7363064d52f7",
   "metadata": {},
   "outputs": [
    {
     "name": "stdout",
     "output_type": "stream",
     "text": [
      "[2 4 6]\n",
      "[2, 4, 6]\n"
     ]
    }
   ],
   "source": [
    "# Example:\n",
    "import numpy as np\n",
    "\n",
    "# NumPy supports element-wise operations\n",
    "a = np.array([1, 2, 3])\n",
    "print(a * 2)  \n",
    "\n",
    "# Python list needs list comprehension\n",
    "b = [1, 2, 3]\n",
    "print([x * 2 for x in b])  "
   ]
  },
  {
   "cell_type": "markdown",
   "id": "87e78af0-b84a-410e-a4a4-abdc07b9158a",
   "metadata": {},
   "source": [
    "### 4. Use Case\n",
    "\n",
    "| Scenario                     | Use This    |\n",
    "| ---------------------------- | ----------- |\n",
    "| General-purpose data holding | Python List |\n",
    "| Large-scale numerical data   | NumPy Array |\n",
    "| Scientific computing         | NumPy Array |\n",
    "\n",
    "---\n",
    "\n",
    "### Summary Table\n",
    "\n",
    "| Feature              | Python List | NumPy Array |\n",
    "| -------------------- | ----------- | ----------- |\n",
    "| Homogeneous elements | ❌           | ✅           |\n",
    "| Fast math operations | ❌           | ✅           |\n",
    "| Memory efficient     | ❌           | ✅           |\n",
    "| Dynamic resizing     | ✅           | ❌           |\n",
    "| Data manipulation    | Basic       | Advanced    |"
   ]
  },
  {
   "cell_type": "markdown",
   "id": "1252fb16-1260-4a0f-b3ab-c1c443f31147",
   "metadata": {},
   "source": [
    "## Basic Functions :"
   ]
  },
  {
   "cell_type": "code",
   "execution_count": 8,
   "id": "9fcaeaec-1cf3-4f24-8be4-8c72f2b9b22a",
   "metadata": {},
   "outputs": [
    {
     "name": "stdout",
     "output_type": "stream",
     "text": [
      "[[1 4 7]\n",
      " [2 5 8]\n",
      " [3 6 9]]\n",
      "['hello' 'how' 'are' 'you']\n"
     ]
    }
   ],
   "source": [
    "a = np.array([[1,4,7],[2,5,8],[3,6,9]])\n",
    "r = np.array(['hello','how','are','you'])\n",
    "print(a)\n",
    "print(r)"
   ]
  },
  {
   "cell_type": "code",
   "execution_count": 9,
   "id": "d3ff973b-941d-4d22-ac21-c7bd7e88f09c",
   "metadata": {},
   "outputs": [
    {
     "data": {
      "text/plain": [
       "2"
      ]
     },
     "execution_count": 9,
     "metadata": {},
     "output_type": "execute_result"
    }
   ],
   "source": [
    "# tells you the dimension\n",
    "a.ndim "
   ]
  },
  {
   "cell_type": "code",
   "execution_count": 10,
   "id": "9d4c0e40-7874-414e-8700-b5cde34b5b40",
   "metadata": {},
   "outputs": [
    {
     "data": {
      "text/plain": [
       "(3, 3)"
      ]
     },
     "execution_count": 10,
     "metadata": {},
     "output_type": "execute_result"
    }
   ],
   "source": [
    "# tells the shape\n",
    "a.shape "
   ]
  },
  {
   "cell_type": "code",
   "execution_count": 11,
   "id": "cb37f2db-0e8b-4bd7-aed4-724a4c417ae0",
   "metadata": {},
   "outputs": [
    {
     "data": {
      "text/plain": [
       "dtype('int32')"
      ]
     },
     "execution_count": 11,
     "metadata": {},
     "output_type": "execute_result"
    }
   ],
   "source": [
    "# tells the datatype\n",
    "a.dtype"
   ]
  },
  {
   "cell_type": "code",
   "execution_count": 12,
   "id": "344ba1b2-09b1-44ea-b44e-e9cf1d2d4ae6",
   "metadata": {},
   "outputs": [
    {
     "name": "stdout",
     "output_type": "stream",
     "text": [
      "4\n",
      "9\n",
      "36\n"
     ]
    }
   ],
   "source": [
    "print(a.itemsize) # get size\n",
    "print(a.size) # get total elements\n",
    "print(a.nbytes) #total size(no. of elemnts * respective size)"
   ]
  },
  {
   "cell_type": "markdown",
   "id": "7135de4c-5606-408a-b8dd-c107eb0c6398",
   "metadata": {},
   "source": [
    "## Accessing/Changing specific elements, rows, columns, etc"
   ]
  },
  {
   "cell_type": "code",
   "execution_count": 14,
   "id": "a2695934-246b-4a1e-bf0d-1f008eeb4e2f",
   "metadata": {},
   "outputs": [
    {
     "name": "stdout",
     "output_type": "stream",
     "text": [
      "[[ 1  2  3  4  5  6  7]\n",
      " [ 8  9 10 11 12 13 14]]\n"
     ]
    }
   ],
   "source": [
    "b = np.array([[1,2,3,4,5,6,7],[8,9,10,11,12,13,14]])\n",
    "print(b)"
   ]
  },
  {
   "cell_type": "code",
   "execution_count": 15,
   "id": "8351a66d-93b8-4cb8-b849-1ab17c964649",
   "metadata": {},
   "outputs": [
    {
     "name": "stdout",
     "output_type": "stream",
     "text": [
      "(2, 7)\n"
     ]
    }
   ],
   "source": [
    "print(b.shape)"
   ]
  },
  {
   "cell_type": "code",
   "execution_count": 16,
   "id": "bfd9fd8f-16da-4eb1-beeb-05dc6eb13762",
   "metadata": {},
   "outputs": [
    {
     "name": "stdout",
     "output_type": "stream",
     "text": [
      "13\n",
      "13\n",
      "[ 3 10]\n",
      "[[2 4 6]]\n"
     ]
    }
   ],
   "source": [
    "print(b[1][5])\n",
    "print(b[1,5])\n",
    "print(b[:,2])\n",
    "print(b[:1,1:6:2])"
   ]
  },
  {
   "cell_type": "code",
   "execution_count": 17,
   "id": "4c07f47a-964d-40ea-88b3-6e2301cee851",
   "metadata": {},
   "outputs": [
    {
     "name": "stdout",
     "output_type": "stream",
     "text": [
      "[[ 1  2  3  4  5  6  7]\n",
      " [ 8  9 10 11 12 20 14]]\n"
     ]
    }
   ],
   "source": [
    "b[1,5] = 20\n",
    "print(b)"
   ]
  },
  {
   "cell_type": "markdown",
   "id": "04afa71e-34bc-4d55-adee-aa755201eecc",
   "metadata": {},
   "source": [
    "## Initializinf different Types of arrays"
   ]
  },
  {
   "cell_type": "code",
   "execution_count": 19,
   "id": "5d5a8505-286f-4190-a62f-c86452b70380",
   "metadata": {},
   "outputs": [
    {
     "data": {
      "text/plain": [
       "array([[[0., 0.],\n",
       "        [0., 0.],\n",
       "        [0., 0.]],\n",
       "\n",
       "       [[0., 0.],\n",
       "        [0., 0.],\n",
       "        [0., 0.]]])"
      ]
     },
     "execution_count": 19,
     "metadata": {},
     "output_type": "execute_result"
    }
   ],
   "source": [
    "# All 0s matrix \n",
    "np.zeros((2,3,2))"
   ]
  },
  {
   "cell_type": "code",
   "execution_count": 20,
   "id": "f10aa253-2e15-4ee8-a57a-214bf3dcdccb",
   "metadata": {},
   "outputs": [
    {
     "data": {
      "text/plain": [
       "array([[1, 1, 1, 1],\n",
       "       [1, 1, 1, 1],\n",
       "       [1, 1, 1, 1],\n",
       "       [1, 1, 1, 1]])"
      ]
     },
     "execution_count": 20,
     "metadata": {},
     "output_type": "execute_result"
    }
   ],
   "source": [
    "# All 1s matrix\n",
    "np.ones((4,4), dtype = 'int32')"
   ]
  },
  {
   "cell_type": "code",
   "execution_count": 21,
   "id": "1c331f8c-8757-4a30-8bb8-cb30bee1bf94",
   "metadata": {},
   "outputs": [
    {
     "data": {
      "text/plain": [
       "array([[3, 3],\n",
       "       [3, 3]])"
      ]
     },
     "execution_count": 21,
     "metadata": {},
     "output_type": "execute_result"
    }
   ],
   "source": [
    "np.full((2,2), 3)"
   ]
  },
  {
   "cell_type": "code",
   "execution_count": 22,
   "id": "7a1840ac-8bdb-43d1-bfa5-7ef877c2c8e3",
   "metadata": {},
   "outputs": [
    {
     "data": {
      "text/plain": [
       "array([ 1,  3,  5,  7,  9, 11, 13, 15, 17, 19])"
      ]
     },
     "execution_count": 22,
     "metadata": {},
     "output_type": "execute_result"
    }
   ],
   "source": [
    "np.arange(1,20,2) # last element not counted"
   ]
  },
  {
   "cell_type": "code",
   "execution_count": 23,
   "id": "c97d498d-fb5c-4998-90d1-e8fae87937fa",
   "metadata": {},
   "outputs": [
    {
     "data": {
      "text/plain": [
       "array([ 0,  5, 10, 15, 20])"
      ]
     },
     "execution_count": 23,
     "metadata": {},
     "output_type": "execute_result"
    }
   ],
   "source": [
    "np.linspace(0,20,5 , dtype = 'int32') # last element counted"
   ]
  },
  {
   "cell_type": "code",
   "execution_count": 24,
   "id": "3fcb3b15-1809-4800-bfdb-6c69cd7efe99",
   "metadata": {},
   "outputs": [
    {
     "data": {
      "text/plain": [
       "array([[4, 4, 4],\n",
       "       [4, 4, 4],\n",
       "       [4, 4, 4]])"
      ]
     },
     "execution_count": 24,
     "metadata": {},
     "output_type": "execute_result"
    }
   ],
   "source": [
    "np.full_like(a,4)"
   ]
  },
  {
   "cell_type": "code",
   "execution_count": 25,
   "id": "9cd25ab2-c66c-41d8-be00-e43fc4f54e38",
   "metadata": {},
   "outputs": [
    {
     "data": {
      "text/plain": [
       "array([[0.37600928, 0.98130414],\n",
       "       [0.88073988, 0.75402526],\n",
       "       [0.563443  , 0.72388754],\n",
       "       [0.74910425, 0.97246707]])"
      ]
     },
     "execution_count": 25,
     "metadata": {},
     "output_type": "execute_result"
    }
   ],
   "source": [
    "# Random decimal numbers\n",
    "np.random.rand(4,2)"
   ]
  },
  {
   "cell_type": "code",
   "execution_count": 26,
   "id": "c136a19b-8b43-4122-915f-b311778539d8",
   "metadata": {},
   "outputs": [
    {
     "data": {
      "text/plain": [
       "array([[0.98490548, 0.71138919, 0.04709261],\n",
       "       [0.96148188, 0.74645609, 0.17696103],\n",
       "       [0.18836184, 0.15136127, 0.96258614]])"
      ]
     },
     "execution_count": 26,
     "metadata": {},
     "output_type": "execute_result"
    }
   ],
   "source": [
    "np.random.random_sample(a.shape)"
   ]
  },
  {
   "cell_type": "code",
   "execution_count": 27,
   "id": "acac953d-bf2f-4696-b9b6-ea98bdc2ba1e",
   "metadata": {},
   "outputs": [
    {
     "data": {
      "text/plain": [
       "array([[ 7, 13, 23],\n",
       "       [ 6, 15, 20],\n",
       "       [11, 19, 16]])"
      ]
     },
     "execution_count": 27,
     "metadata": {},
     "output_type": "execute_result"
    }
   ],
   "source": [
    "#random integer values\n",
    "np.random.randint(6,24,size=(3,3)) # 6 -> start ; 24 -> end "
   ]
  },
  {
   "cell_type": "code",
   "execution_count": 28,
   "id": "d68c44ec-2845-4bdd-bc4b-4dca5491ab7c",
   "metadata": {},
   "outputs": [
    {
     "data": {
      "text/plain": [
       "array([[1., 0., 0., 0., 0.],\n",
       "       [0., 1., 0., 0., 0.],\n",
       "       [0., 0., 1., 0., 0.],\n",
       "       [0., 0., 0., 1., 0.],\n",
       "       [0., 0., 0., 0., 1.]])"
      ]
     },
     "execution_count": 28,
     "metadata": {},
     "output_type": "execute_result"
    }
   ],
   "source": [
    "np.identity(5)"
   ]
  },
  {
   "cell_type": "code",
   "execution_count": 29,
   "id": "8159b5e6-62f3-4feb-8a38-edaeeb07d4ab",
   "metadata": {},
   "outputs": [
    {
     "name": "stdout",
     "output_type": "stream",
     "text": [
      "[[1 2 3]\n",
      " [1 2 3]\n",
      " [1 2 3]]\n"
     ]
    }
   ],
   "source": [
    "c = np.array([[1,2,3]])\n",
    "repeated_c = np.repeat(c, 3, axis = 0)\n",
    "print(repeated_c)"
   ]
  },
  {
   "cell_type": "raw",
   "id": "878c391f-f774-4357-bad5-32a00b70c8b6",
   "metadata": {},
   "source": [
    "Q) Make a shape like this\n",
    "| 1 | 1 | 1 | 1 | 1 |\r\n",
    "| 1 | 0 | 0 | 0 | 1 |\r\n",
    "| 1 | 0 | 9 | 0 | 1 |\r\n",
    "| 1 | 0 | 0 | 0 | \n",
    "| 1 | 1 | 1 | 1 | 1 |1 |\r\n"
   ]
  },
  {
   "cell_type": "code",
   "execution_count": 30,
   "id": "ebb15595-c97e-4007-8d86-352f2fdf48bf",
   "metadata": {},
   "outputs": [
    {
     "name": "stdout",
     "output_type": "stream",
     "text": [
      "[[1 1 1 1 1]\n",
      " [1 0 0 0 1]\n",
      " [1 0 9 0 1]\n",
      " [1 0 0 0 1]\n",
      " [1 1 1 1 1]]\n"
     ]
    }
   ],
   "source": [
    "c = np.ones((5,5), dtype = 'int32')\n",
    "c[1:-1,1:-1] = np.zeros((3,3), dtype = 'int32')\n",
    "c[2,2] = 9\n",
    "print(c)"
   ]
  },
  {
   "cell_type": "code",
   "execution_count": 31,
   "id": "3dd2f370-8dbf-41b7-a075-3b61bfacfcae",
   "metadata": {},
   "outputs": [
    {
     "name": "stdout",
     "output_type": "stream",
     "text": [
      "[[10  2  3]\n",
      " [ 4  5  6]\n",
      " [ 7  8  9]]\n",
      "\n",
      "\n",
      "[[1 2 3]\n",
      " [4 5 6]\n",
      " [7 8 9]]\n"
     ]
    }
   ],
   "source": [
    "#Being careful while copy\n",
    "d = np.array([[1,2,3],[4,5,6],[7,8,9]])\n",
    "e = d\n",
    "e[0,0] = 10\n",
    "print(d)\n",
    "print('\\n')\n",
    "f = np.array([[1,2,3],[4,5,6],[7,8,9]])\n",
    "g = f.copy()\n",
    "g[0,0] = 10\n",
    "print(f)"
   ]
  },
  {
   "cell_type": "markdown",
   "id": "be7389ea-1296-4ec0-9fa1-916327226279",
   "metadata": {},
   "source": [
    "### Mathematics (no need to import math additionaly nor even create loops like lists)"
   ]
  },
  {
   "cell_type": "code",
   "execution_count": 33,
   "id": "a4e5bcd6-2bc0-42dc-8b22-3d2ec01324e1",
   "metadata": {},
   "outputs": [],
   "source": [
    "a = np.array([1,2,3,4,5])"
   ]
  },
  {
   "cell_type": "code",
   "execution_count": 34,
   "id": "d631b0a0-921b-4005-8de1-21af3c0ac8b8",
   "metadata": {},
   "outputs": [
    {
     "name": "stdout",
     "output_type": "stream",
     "text": [
      "[3 4 5 6 7]\n"
     ]
    }
   ],
   "source": [
    "a += 2\n",
    "print(a)"
   ]
  },
  {
   "cell_type": "code",
   "execution_count": 35,
   "id": "f7356b85-7147-4fa7-a9b6-2848fbc97c94",
   "metadata": {},
   "outputs": [
    {
     "name": "stdout",
     "output_type": "stream",
     "text": [
      "[2 3 4 5 6]\n"
     ]
    }
   ],
   "source": [
    "a -= 1\n",
    "print(a)"
   ]
  },
  {
   "cell_type": "code",
   "execution_count": 36,
   "id": "62972f49-bc4c-44f4-b589-984e08a0a2e1",
   "metadata": {},
   "outputs": [
    {
     "name": "stdout",
     "output_type": "stream",
     "text": [
      "[ 4  6  8 10 12]\n"
     ]
    }
   ],
   "source": [
    "a *= 2\n",
    "print(a)"
   ]
  },
  {
   "cell_type": "code",
   "execution_count": 37,
   "id": "e3311f67-afb8-455e-be40-4c9f6b18d03a",
   "metadata": {},
   "outputs": [
    {
     "name": "stdout",
     "output_type": "stream",
     "text": [
      "[2 3 4 5 6]\n"
     ]
    }
   ],
   "source": [
    "a //= 2\n",
    "print(a)"
   ]
  },
  {
   "cell_type": "code",
   "execution_count": 38,
   "id": "231f7761-ba88-44b1-bf82-1afb452a0103",
   "metadata": {},
   "outputs": [
    {
     "data": {
      "text/plain": [
       "array([ 4,  9, 16, 25, 36])"
      ]
     },
     "execution_count": 38,
     "metadata": {},
     "output_type": "execute_result"
    }
   ],
   "source": [
    "a ** 2"
   ]
  },
  {
   "cell_type": "code",
   "execution_count": 39,
   "id": "79f3049a-8b7d-4894-99f1-7c8f239b8153",
   "metadata": {},
   "outputs": [
    {
     "name": "stdout",
     "output_type": "stream",
     "text": [
      "[10 10 10 10 10]\n"
     ]
    }
   ],
   "source": [
    "b = np.array([8,7,6,5,4])\n",
    "print(a + b)"
   ]
  },
  {
   "cell_type": "code",
   "execution_count": 40,
   "id": "70399180-99d0-43de-aceb-1755da0d001a",
   "metadata": {},
   "outputs": [
    {
     "name": "stdout",
     "output_type": "stream",
     "text": [
      "Sin values of a are :  [ 0.90929743  0.14112001 -0.7568025  -0.95892427 -0.2794155 ]\n",
      "Cos values of a are :  [-0.41614684 -0.9899925  -0.65364362  0.28366219  0.96017029]\n",
      "Tan values of a are :  [-2.18503986 -0.14254654  1.15782128 -3.38051501 -0.29100619]\n"
     ]
    }
   ],
   "source": [
    "# perform trigo functions \n",
    "print('Sin values of a are : ',np.sin(a))\n",
    "print('Cos values of a are : ',np.cos(a))\n",
    "print('Tan values of a are : ',np.tan(a))"
   ]
  },
  {
   "cell_type": "markdown",
   "id": "c9a275c0-5ed6-425c-a75c-27e9f7680a41",
   "metadata": {},
   "source": [
    "## Linear Algebra"
   ]
  },
  {
   "cell_type": "code",
   "execution_count": 42,
   "id": "6660c09d-fba2-4e37-a70c-de447c6c7f4b",
   "metadata": {},
   "outputs": [
    {
     "name": "stdout",
     "output_type": "stream",
     "text": [
      "[[1. 1. 1.]\n",
      " [1. 1. 1.]]\n",
      "\n",
      "\n",
      "[[2 2]\n",
      " [2 2]\n",
      " [2 2]]\n",
      "\n",
      "\n",
      "dot multiplication of a.b is : \n",
      " [[6. 6.]\n",
      " [6. 6.]]\n",
      "\n",
      "\n",
      "Matrix multiplication of axb is : \n",
      " [[6. 6.]\n",
      " [6. 6.]]\n"
     ]
    }
   ],
   "source": [
    "a = np.ones((2,3))\n",
    "print(a)\n",
    "print('\\n')\n",
    "b = np.full((3,2),2)\n",
    "print(b)\n",
    "print('\\n')\n",
    "print('dot multiplication of a.b is : \\n', np.dot(a,b))\n",
    "print('\\n')\n",
    "print('Matrix multiplication of axb is : \\n', np.matmul(a,b))"
   ]
  },
  {
   "cell_type": "code",
   "execution_count": 43,
   "id": "3c9139b7-9688-453e-8de6-3e790b688911",
   "metadata": {},
   "outputs": [
    {
     "data": {
      "text/plain": [
       "1.0"
      ]
     },
     "execution_count": 43,
     "metadata": {},
     "output_type": "execute_result"
    }
   ],
   "source": [
    "# Find the determinant\n",
    "c = np.identity(2)\n",
    "np.linalg.det(c)"
   ]
  },
  {
   "cell_type": "markdown",
   "id": "dbc5b316-f115-4089-94ff-d511569372ca",
   "metadata": {},
   "source": [
    "## Statistics"
   ]
  },
  {
   "cell_type": "code",
   "execution_count": 45,
   "id": "791d2d88-83d6-4af5-8c3e-20345cce914c",
   "metadata": {},
   "outputs": [
    {
     "data": {
      "text/plain": [
       "array([[12,  4,  5],\n",
       "       [34,  5,  3],\n",
       "       [ 4, 34,  2]])"
      ]
     },
     "execution_count": 45,
     "metadata": {},
     "output_type": "execute_result"
    }
   ],
   "source": [
    "stats = np.array([[12,4,5],[34,5,3],[4,34,2]])\n",
    "stats"
   ]
  },
  {
   "cell_type": "code",
   "execution_count": 46,
   "id": "c17668e3-f18e-4bb4-8165-249f9c7c6086",
   "metadata": {},
   "outputs": [
    {
     "name": "stdout",
     "output_type": "stream",
     "text": [
      "Row wise minimum are :  [4 3 2]\n",
      "Column wise minimum are :  [4 4 2]\n",
      "\n",
      "\n",
      "Row wise maximum are :  [12 34 34]\n",
      "Column wise maximum are :  [34 34  5]\n"
     ]
    }
   ],
   "source": [
    "print('Row wise minimum are : ',np.min(stats, axis = 1))\n",
    "print('Column wise minimum are : ',np.min(stats, axis = 0))\n",
    "print('\\n')\n",
    "print('Row wise maximum are : ',np.max(stats, axis = 1))\n",
    "print('Column wise maximum are : ',np.max(stats, axis = 0))"
   ]
  },
  {
   "cell_type": "code",
   "execution_count": 47,
   "id": "d52ad2b5-bb05-4d5a-8969-e4eb796e4bf2",
   "metadata": {},
   "outputs": [
    {
     "data": {
      "text/plain": [
       "array([50, 43, 10])"
      ]
     },
     "execution_count": 47,
     "metadata": {},
     "output_type": "execute_result"
    }
   ],
   "source": [
    "np.sum(stats, axis = 0)"
   ]
  },
  {
   "cell_type": "code",
   "execution_count": 48,
   "id": "d5563790-375c-4bf7-998a-c5f092322310",
   "metadata": {},
   "outputs": [
    {
     "data": {
      "text/plain": [
       "103"
      ]
     },
     "execution_count": 48,
     "metadata": {},
     "output_type": "execute_result"
    }
   ],
   "source": [
    "np.sum(stats)"
   ]
  },
  {
   "cell_type": "markdown",
   "id": "f8e263ce-e347-43fa-a852-0e41e2b3f144",
   "metadata": {},
   "source": [
    "## Reorganizing Arrays"
   ]
  },
  {
   "cell_type": "code",
   "execution_count": 50,
   "id": "fbe0ec2c-eee3-43aa-96c4-f4ab8313a705",
   "metadata": {},
   "outputs": [
    {
     "name": "stdout",
     "output_type": "stream",
     "text": [
      "[[1 2 3 4]\n",
      " [5 6 7 8]]\n"
     ]
    }
   ],
   "source": [
    "before = np.array([[1,2,3,4],[5,6,7,8]])\n",
    "print(before)"
   ]
  },
  {
   "cell_type": "code",
   "execution_count": 51,
   "id": "d100a312-ee1b-4e1c-b5e6-756b8a4956f7",
   "metadata": {},
   "outputs": [
    {
     "data": {
      "text/plain": [
       "array([[1, 2],\n",
       "       [3, 4],\n",
       "       [5, 6],\n",
       "       [7, 8]])"
      ]
     },
     "execution_count": 51,
     "metadata": {},
     "output_type": "execute_result"
    }
   ],
   "source": [
    "after = before.reshape(4,2)\n",
    "after"
   ]
  },
  {
   "cell_type": "code",
   "execution_count": 52,
   "id": "466f40fb-c5c4-4260-a398-9fb2cfed239c",
   "metadata": {},
   "outputs": [
    {
     "data": {
      "text/plain": [
       "array([[1, 2, 3, 4],\n",
       "       [5, 6, 7, 8]])"
      ]
     },
     "execution_count": 52,
     "metadata": {},
     "output_type": "execute_result"
    }
   ],
   "source": [
    "# vertically stacking vectors\n",
    "v1 = np.array([1,2,3,4])\n",
    "v2 = np.array([5,6,7,8])\n",
    "np.vstack([v1,v2])"
   ]
  },
  {
   "cell_type": "code",
   "execution_count": 53,
   "id": "9e8fa357-5a45-4538-8990-056217645b3a",
   "metadata": {},
   "outputs": [
    {
     "data": {
      "text/plain": [
       "array([[0., 0., 0., 0., 1., 1.],\n",
       "       [0., 0., 0., 0., 1., 1.]])"
      ]
     },
     "execution_count": 53,
     "metadata": {},
     "output_type": "execute_result"
    }
   ],
   "source": [
    "# horizontally stacking vectors\n",
    "h1 = np.zeros((2,4))\n",
    "h2 = np.ones((2,2))\n",
    "np.hstack([h1,h2])"
   ]
  },
  {
   "cell_type": "markdown",
   "id": "fb02b872-a9e9-47d3-b4c0-e29c2627b96d",
   "metadata": {},
   "source": [
    "## Miscellaneous"
   ]
  },
  {
   "cell_type": "code",
   "execution_count": 55,
   "id": "f60aaacd-20a6-43dd-8dba-89769ee04425",
   "metadata": {},
   "outputs": [
    {
     "name": "stdout",
     "output_type": "stream",
     "text": [
      "[[  1  13  21  11 196  75   4   3  34   6   7   8   0   1   2   3   4   5]\n",
      " [  3  42  12  33 766  75   4  55   6   4   3   4   5   6   7   0  11  12]\n",
      " [  1  22  33  11 999  11   2   1  78   0   1   2   9   8   7   1  76  88]]\n"
     ]
    }
   ],
   "source": [
    "# load data from a file\n",
    "filedata = np.genfromtxt(\"../datasets/data.txt\", delimiter = ',')\n",
    "filedata = filedata.astype('int32')\n",
    "print(filedata)"
   ]
  },
  {
   "cell_type": "code",
   "execution_count": 56,
   "id": "65008c1d-224c-4ad0-a6cd-7a999966a189",
   "metadata": {},
   "outputs": [
    {
     "data": {
      "text/plain": [
       "array([75, 75, 55, 78, 76, 88])"
      ]
     },
     "execution_count": 56,
     "metadata": {},
     "output_type": "execute_result"
    }
   ],
   "source": [
    "# boolean masking and advance indexing\n",
    "grt_50_ls_100 = filedata[(filedata > 50) & (filedata < 100)]\n",
    "grt_50_ls_100"
   ]
  },
  {
   "cell_type": "code",
   "execution_count": 57,
   "id": "10c87606-395b-4b29-a6b3-3faff5481f06",
   "metadata": {},
   "outputs": [
    {
     "data": {
      "text/plain": [
       "array([1, 2, 8])"
      ]
     },
     "execution_count": 57,
     "metadata": {},
     "output_type": "execute_result"
    }
   ],
   "source": [
    "# you can index with a list\n",
    "a = np.array([0,1,2,3,4,5,6,7,8,9,10])\n",
    "a[[1,2,8]]"
   ]
  },
  {
   "attachments": {
    "45fcfab7-b7d2-44b9-843d-8c164f657024.png": {
     "image/png": "[encoded data removed]"
    }
   },
   "cell_type": "markdown",
   "id": "5040ecb4-73f3-4ead-8f1c-e1284b3459f5",
   "metadata": {},
   "source": [
    "#### Short puzzle \n",
    "![image.png](attachment:45fcfab7-b7d2-44b9-843d-8c164f657024.png)"
   ]
  }
 ],
 "metadata": {
  "kernelspec": {
   "display_name": "Python 3 (ipykernel)",
   "language": "python",
   "name": "python3"
  },
  "language_info": {
   "codemirror_mode": {
    "name": "ipython",
    "version": 3
   },
   "file_extension": ".py",
   "mimetype": "text/x-python",
   "name": "python",
   "nbconvert_exporter": "python",
   "pygments_lexer": "ipython3",
   "version": "3.11.7"
  }
 },
 "nbformat": 4,
 "nbformat_minor": 5
}
