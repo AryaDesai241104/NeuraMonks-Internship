{
 "cells": [
  {
   "cell_type": "markdown",
   "id": "60805d9f-8463-4995-9e03-6cc00e3ebf41",
   "metadata": {},
   "source": [
    "## MACHINE LEARNING DAY - 1 : Data Preprocessing "
   ]
  },
  {
   "cell_type": "markdown",
   "id": "cec033cc-3deb-4d84-b5f5-5b9e94660b5a",
   "metadata": {},
   "source": [
    "### Importing the libraries"
   ]
  },
  {
   "cell_type": "code",
   "execution_count": 3,
   "id": "6df3ee72-7dc5-4885-a3be-63c41628bf65",
   "metadata": {},
   "outputs": [],
   "source": [
    "import matplotlib.pyplot as plt\n",
    "import numpy as np\n",
    "import pandas as pd"
   ]
  },
  {
   "cell_type": "markdown",
   "id": "33063818-6e5f-47f1-bb51-4da79c75fcee",
   "metadata": {},
   "source": [
    "### Importing the dataset"
   ]
  },
  {
   "cell_type": "code",
   "execution_count": 5,
   "id": "117e3510-2334-4873-b791-77e0ff7fc06d",
   "metadata": {},
   "outputs": [],
   "source": [
    "dataset = pd.read_csv('../datasets/data.csv')\n",
    "X = dataset.iloc[:,:-1].values\n",
    "y = dataset.iloc[:,-1:].values"
   ]
  },
  {
   "cell_type": "code",
   "execution_count": 6,
   "id": "12659c56-c080-4fa6-bddf-a939b45a289e",
   "metadata": {},
   "outputs": [
    {
     "name": "stdout",
     "output_type": "stream",
     "text": [
      "   Country   Age   Salary Purchased\n",
      "0   France  44.0  72000.0        No\n",
      "1    Spain  27.0  48000.0       Yes\n",
      "2  Germany  30.0  54000.0        No\n",
      "3    Spain  38.0  61000.0        No\n",
      "4  Germany  40.0      NaN       Yes\n",
      "5   France  35.0  58000.0       Yes\n",
      "6    Spain   NaN  52000.0        No\n",
      "7   France  48.0  79000.0       Yes\n",
      "8  Germany  50.0  83000.0        No\n",
      "9   France  37.0  67000.0       Yes\n"
     ]
    }
   ],
   "source": [
    "print(dataset)"
   ]
  },
  {
   "cell_type": "code",
   "execution_count": 7,
   "id": "77d23e77-f4c5-4089-b5e8-fe8b961fd98a",
   "metadata": {},
   "outputs": [
    {
     "name": "stdout",
     "output_type": "stream",
     "text": [
      "[['France' 44.0 72000.0]\n",
      " ['Spain' 27.0 48000.0]\n",
      " ['Germany' 30.0 54000.0]\n",
      " ['Spain' 38.0 61000.0]\n",
      " ['Germany' 40.0 nan]\n",
      " ['France' 35.0 58000.0]\n",
      " ['Spain' nan 52000.0]\n",
      " ['France' 48.0 79000.0]\n",
      " ['Germany' 50.0 83000.0]\n",
      " ['France' 37.0 67000.0]] \n",
      " [['No']\n",
      " ['Yes']\n",
      " ['No']\n",
      " ['No']\n",
      " ['Yes']\n",
      " ['Yes']\n",
      " ['No']\n",
      " ['Yes']\n",
      " ['No']\n",
      " ['Yes']]\n"
     ]
    }
   ],
   "source": [
    "print(X,\"\\n\",y)"
   ]
  },
  {
   "cell_type": "markdown",
   "id": "a8d66487-69da-4b72-84c1-97557730a627",
   "metadata": {},
   "source": [
    "### Taking care of missing data"
   ]
  },
  {
   "cell_type": "markdown",
   "id": "b63a41ad-04e7-4998-b0b1-171f4f1938e6",
   "metadata": {},
   "source": [
    "#### 1. `fillna()` – Fill Missing Values with Specific Logic\n",
    "\n",
    "##### 1.1. Fill with a constant value\n",
    "\n",
    "```python\n",
    "df.fillna(0)\n",
    "df.fillna(\"Unknown\")\n",
    "````\n",
    "\n",
    "##### 1.2. Fill with column statistics\n",
    "\n",
    "```python\n",
    "df['Age'].fillna(df['Age'].mean(), inplace=True)\n",
    "df['Salary'].fillna(df['Salary'].median(), inplace=True)\n",
    "df['Gender'].fillna(df['Gender'].mode()[0], inplace=True)\n",
    "```\n",
    "\n",
    "##### 1.3. Fill using forward fill (propagate previous values)\n",
    "\n",
    "```python\n",
    "df.fillna(method='ffill')\n",
    "```\n",
    "\n",
    "##### 1.4. Fill using backward fill (propagate next values)\n",
    "\n",
    "```python\n",
    "df.fillna(method='bfill')\n",
    "```\n",
    "\n",
    "##### 1.5. Use limit to restrict fills\n",
    "\n",
    "```python\n",
    "df.fillna(method='ffill', limit=1)\n",
    "```\n",
    "\n",
    "---\n",
    "\n",
    "#### 2. `interpolate()` – Estimate Missing Values\n",
    "\n",
    "##### 2.1. Linear Interpolation (default)\n",
    "\n",
    "```python\n",
    "df.interpolate()\n",
    "```\n",
    "\n",
    "##### 2.2. Polynomial Interpolation\n",
    "\n",
    "```python\n",
    "df.interpolate(method='polynomial', order=2)\n",
    "```\n",
    "\n",
    "##### 2.3. Time-based Interpolation (if datetime index)\n",
    "\n",
    "```python\n",
    "df.interpolate(method='time')\n",
    "```\n",
    "\n",
    "---\n",
    "\n",
    "#### 3. `dropna()` – Remove Missing Data\n",
    "\n",
    "##### 3.1. Drop rows with any NaN\n",
    "\n",
    "```python\n",
    "df.dropna(axis=0)\n",
    "```\n",
    "\n",
    "##### 3.2. Drop columns with any NaN\n",
    "\n",
    "```python\n",
    "df.dropna(axis=1)\n",
    "```\n",
    "\n",
    "##### 3.3. Drop only if all values in row/column are NaN\n",
    "\n",
    "```python\n",
    "df.dropna(how='all')\n",
    "```\n",
    "\n",
    "##### 3.4. Drop based on specific column(s)\n",
    "\n",
    "```python\n",
    "df.dropna(subset=['Age', 'Salary'])\n",
    "```\n",
    "\n",
    "---\n",
    "\n",
    "#### 4. `replace()` – Replace Specific Values\n",
    "\n",
    "```python\n",
    "df.replace(to_replace=np.nan, value=0)\n",
    "df.replace(-999, np.nan)\n",
    "```\n",
    "\n",
    "---\n",
    "\n",
    "#### 5. `sklearn.impute` – Model-Based Imputation\n",
    "\n",
    "```python\n",
    "from sklearn.impute import SimpleImputer\n",
    "\n",
    "imputer = SimpleImputer(strategy='mean')  # or 'median', 'most_frequent', 'constant'\n",
    "X = imputer.fit_transform(X)"
   ]
  },
  {
   "cell_type": "code",
   "execution_count": 10,
   "id": "b2b3f511-f7a4-4ab2-938f-03a3f0c53da4",
   "metadata": {},
   "outputs": [
    {
     "name": "stdout",
     "output_type": "stream",
     "text": [
      "[['France' 44.0 72000.0]\n",
      " ['Spain' 27.0 48000.0]\n",
      " ['Germany' 30.0 54000.0]\n",
      " ['Spain' 38.0 61000.0]\n",
      " ['Germany' 40.0 63777.77777777778]\n",
      " ['France' 35.0 58000.0]\n",
      " ['Spain' 38.77777777777778 52000.0]\n",
      " ['France' 48.0 79000.0]\n",
      " ['Germany' 50.0 83000.0]\n",
      " ['France' 37.0 67000.0]]\n"
     ]
    }
   ],
   "source": [
    "from sklearn.impute import SimpleImputer\n",
    "imputer = SimpleImputer(missing_values = np.nan, strategy = 'mean')\n",
    "imputer.fit(X[:, 1:3])\n",
    "X[:, 1:3] = imputer.transform(X[:, 1:3])\n",
    "print(X)"
   ]
  },
  {
   "cell_type": "markdown",
   "id": "cbfe2c65-d76b-4c6b-8c6a-fd1b1e4ced88",
   "metadata": {},
   "source": [
    "### Encoding the independent variable"
   ]
  },
  {
   "cell_type": "code",
   "execution_count": 12,
   "id": "d1a52a2c-63bd-4833-b735-5788546ad2b9",
   "metadata": {},
   "outputs": [
    {
     "name": "stdout",
     "output_type": "stream",
     "text": [
      "[[1.0 0.0 0.0 44.0 72000.0]\n",
      " [0.0 0.0 1.0 27.0 48000.0]\n",
      " [0.0 1.0 0.0 30.0 54000.0]\n",
      " [0.0 0.0 1.0 38.0 61000.0]\n",
      " [0.0 1.0 0.0 40.0 63777.77777777778]\n",
      " [1.0 0.0 0.0 35.0 58000.0]\n",
      " [0.0 0.0 1.0 38.77777777777778 52000.0]\n",
      " [1.0 0.0 0.0 48.0 79000.0]\n",
      " [0.0 1.0 0.0 50.0 83000.0]\n",
      " [1.0 0.0 0.0 37.0 67000.0]]\n"
     ]
    }
   ],
   "source": [
    "from sklearn.compose import ColumnTransformer\n",
    "from sklearn.preprocessing import OneHotEncoder\n",
    "ct = ColumnTransformer(transformers = [('encoder', OneHotEncoder(), [0])], remainder = 'passthrough' )\n",
    "X = np.array(ct.fit_transform(X))\n",
    "print(X)"
   ]
  },
  {
   "cell_type": "markdown",
   "id": "56035715-d9c7-4210-bdd1-ed02bb09efc0",
   "metadata": {},
   "source": [
    "### Encoding the dependent variable"
   ]
  },
  {
   "cell_type": "code",
   "execution_count": 14,
   "id": "6a92a9e9-ade0-4b53-9d7c-6c635e4f4012",
   "metadata": {},
   "outputs": [
    {
     "name": "stdout",
     "output_type": "stream",
     "text": [
      "[0 1 0 0 1 1 0 1 0 1]\n"
     ]
    }
   ],
   "source": [
    "from sklearn.preprocessing import LabelEncoder\n",
    "le = LabelEncoder()\n",
    "y = le.fit_transform(y.ravel())\n",
    "print(y)"
   ]
  },
  {
   "cell_type": "markdown",
   "id": "eb813731-a648-4264-9c9e-c1786bb10c60",
   "metadata": {},
   "source": [
    "### Split the data into training set and testing test"
   ]
  },
  {
   "cell_type": "code",
   "execution_count": 16,
   "id": "3c520528-2230-4a32-af31-09639f48a817",
   "metadata": {},
   "outputs": [
    {
     "name": "stdout",
     "output_type": "stream",
     "text": [
      "[[1.0 0.0 0.0 35.0 58000.0]\n",
      " [1.0 0.0 0.0 44.0 72000.0]\n",
      " [1.0 0.0 0.0 48.0 79000.0]\n",
      " [0.0 1.0 0.0 30.0 54000.0]\n",
      " [1.0 0.0 0.0 37.0 67000.0]\n",
      " [0.0 1.0 0.0 40.0 63777.77777777778]\n",
      " [0.0 0.0 1.0 38.0 61000.0]\n",
      " [0.0 0.0 1.0 38.77777777777778 52000.0]]\n",
      "\n",
      "\n",
      "[[0.0 1.0 0.0 50.0 83000.0]\n",
      " [0.0 0.0 1.0 27.0 48000.0]]\n",
      "\n",
      "\n",
      "[1 0 1 0 1 1 0 0]\n",
      "\n",
      "\n",
      "[0 1]\n"
     ]
    }
   ],
   "source": [
    "from sklearn.model_selection import train_test_split\n",
    "X_train, X_test, y_train, y_test = train_test_split(X, y, test_size = 0.2, random_state = 42)\n",
    "print(X_train)\n",
    "print('\\n')\n",
    "print(X_test)\n",
    "print('\\n')\n",
    "print(y_train)\n",
    "print('\\n')\n",
    "print(y_test)"
   ]
  },
  {
   "cell_type": "markdown",
   "id": "6d67328c-4cea-4ef3-b099-54ee44b0fc24",
   "metadata": {},
   "source": [
    "#### Normalization Formula\n",
    "\n",
    "The Min-Max Normalization formula is:\n",
    "\n",
    "$$\n",
    "\\text{Normalized Value} = \\frac{X - X_{\\text{min}}}{X_{\\text{max}} - X_{\\text{min}}}\n",
    "$$\n",
    "\n",
    "This scales the values to a range between **0** and **1**."
   ]
  },
  {
   "cell_type": "markdown",
   "id": "31557d05-b228-494a-acfe-1ec3b1f48768",
   "metadata": {},
   "source": [
    "#### Standardization Formula\n",
    "\n",
    "The Z-score Standardization formula is:\n",
    "\n",
    "$$\n",
    "\\text{Standardized Value} = \\frac{X - \\mu}{\\sigma}\n",
    "$$\n",
    "\n",
    "Where:\n",
    "- \\( X \\) = original value  \n",
    "- \\( \\mu \\) = mean of the feature  \n",
    "- \\( \\sigma \\) = standard deviation of the feature\n",
    "\n",
    "This scales the values to have a **mean of 0** and a **standard deviation of 1**.\n"
   ]
  },
  {
   "cell_type": "markdown",
   "id": "8cbdcf75-002b-4bf2-91d6-9a0413d5b1a7",
   "metadata": {},
   "source": [
    "### Feature Scaling"
   ]
  },
  {
   "cell_type": "code",
   "execution_count": 20,
   "id": "c897dfe6-e307-43d4-97ce-e03c5e80013f",
   "metadata": {},
   "outputs": [
    {
     "name": "stdout",
     "output_type": "stream",
     "text": [
      "[[1.0 0.0 0.0 -0.7529426005471072 -0.6260377781240918]\n",
      " [1.0 0.0 0.0 1.008453807952985 1.0130429500553495]\n",
      " [1.0 0.0 0.0 1.7912966561752484 1.8325833141450703]\n",
      " [0.0 1.0 0.0 -1.7314961608249362 -1.0943465576039322]\n",
      " [1.0 0.0 0.0 -0.3615211764359756 0.42765697570554906]\n",
      " [0.0 1.0 0.0 0.22561095973072184 0.05040823668012247]\n",
      " [0.0 0.0 1.0 -0.16581046438040975 -0.27480619351421154]\n",
      " [0.0 0.0 1.0 -0.013591021670525094 -1.3285009473438525]]\n",
      "\n",
      "\n",
      "[[0.0 1.0 0.0 2.1827180802863797 2.3008920936249107]\n",
      " [0.0 0.0 1.0 -2.3186282969916334 -1.7968097268236927]]\n"
     ]
    }
   ],
   "source": [
    "from sklearn.preprocessing import StandardScaler\n",
    "sc = StandardScaler()\n",
    "X_train[:, 3:] = sc.fit_transform(X_train[:, 3:])\n",
    "X_test[:, 3:] = sc.transform(X_test[:, 3:])\n",
    "print(X_train)\n",
    "print('\\n')\n",
    "print(X_test)"
   ]
  }
 ],
 "metadata": {
  "kernelspec": {
   "display_name": "Python 3 (ipykernel)",
   "language": "python",
   "name": "python3"
  },
  "language_info": {
   "codemirror_mode": {
    "name": "ipython",
    "version": 3
   },
   "file_extension": ".py",
   "mimetype": "text/x-python",
   "name": "python",
   "nbconvert_exporter": "python",
   "pygments_lexer": "ipython3",
   "version": "3.11.7"
  }
 },
 "nbformat": 4,
 "nbformat_minor": 5
}
