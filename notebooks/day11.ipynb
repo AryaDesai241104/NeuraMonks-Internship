{
 "cells": [
  {
   "cell_type": "markdown",
   "id": "a1eaced8-0733-4a65-9a6b-b82d146283ff",
   "metadata": {},
   "source": [
    "## MACHINE LEARNING DAY-6 : RIDGE(L2) AND LASSO(L1)"
   ]
  },
  {
   "cell_type": "markdown",
   "id": "0e606960-d5a1-4114-9d0b-194601e6396e",
   "metadata": {},
   "source": [
    "**L1 and L2 regression** refer to **regularization techniques** used in linear regression (and other machine learning models) to prevent **overfitting** by adding a penalty to the loss function.\n",
    "\n",
    "---\n",
    "\n",
    "### L1 Regression (Lasso Regression)\n",
    "\n",
    "* **L1 regularization** adds the **absolute value** of the coefficients as a penalty term to the loss function.\n",
    "\n",
    "#### Objective Function:\n",
    "\n",
    "$$\n",
    "\\text{Loss} = \\sum_{i=1}^{n}(y_i - \\hat{y}_i)^2 + \\lambda \\sum_{j=1}^{p}|\\beta_j|\n",
    "$$\n",
    "\n",
    "* `λ` (lambda) is the regularization parameter.\n",
    "* `β_j` are the model coefficients.\n",
    "* Encourages **sparse** models (i.e., some coefficients become **exactly zero**).\n",
    "* Useful for **feature selection**.\n",
    "\n",
    "#### Characteristics:\n",
    "\n",
    "* Shrinks some coefficients to zero → simpler model.\n",
    "* Good when you suspect only **a few features are important**.\n",
    "\n",
    "---\n",
    "\n",
    "### L2 Regression (Ridge Regression)\n",
    "\n",
    "* **L2 regularization** adds the **square of the coefficients** as a penalty term.\n",
    "\n",
    "#### Objective Function:\n",
    "\n",
    "$$\n",
    "\\text{Loss} = \\sum_{i=1}^{n}(y_i - \\hat{y}_i)^2 + \\lambda \\sum_{j=1}^{p}\\beta_j^2\n",
    "$$\n",
    "\n",
    "* Tends to **shrink** coefficients but not necessarily to zero.\n",
    "* Keeps **all features**, but reduces their impact.\n",
    "\n",
    "#### Characteristics:\n",
    "\n",
    "* Useful when you believe **all features contribute a little**.\n",
    "* Less prone to removing features completely.\n",
    "\n",
    "---\n",
    "\n",
    "### Key Differences\n",
    "\n",
    "| Aspect                | L1 (Lasso)                            | L2 (Ridge)                    |\n",
    "| --------------------- | ------------------------------------- | ----------------------------- |\n",
    "| Penalty               | Absolute values                       | Squared values                |\n",
    "| Coefficient shrinkage | Can become zero                       | Shrinks toward zero           |\n",
    "| Feature selection     | Yes (Sparse model)                    | No                            |\n",
    "| Computation           | Less stable (non-differentiable at 0) | More stable (smooth gradient) |\n",
    "| Best use case         | When few features matter              | When all features matter      |\n",
    "\n",
    "---\n",
    "\n",
    "### Elastic Net\n",
    "\n",
    "* Combines **L1 + L2** regularization.\n",
    "\n",
    "$$\n",
    "\\text{Loss} = \\sum (y_i - \\hat{y}_i)^2 + \\lambda_1 \\sum |\\beta_j| + \\lambda_2 \\sum \\beta_j^2\n",
    "$$\n",
    "\n",
    "Best of both worlds – use when you have **many correlated features**."
   ]
  },
  {
   "cell_type": "markdown",
   "id": "1ffda302-4ed6-48d6-a2d5-eb1576f4f184",
   "metadata": {},
   "source": [
    "### Importing the Libraries"
   ]
  },
  {
   "cell_type": "code",
   "execution_count": 4,
   "id": "07edc756-4f78-486f-aa31-e68e8dd8bf7a",
   "metadata": {},
   "outputs": [],
   "source": [
    "import numpy as np\n",
    "import matplotlib.pyplot as plt\n",
    "import pandas as pd"
   ]
  },
  {
   "cell_type": "markdown",
   "id": "e247f9cc-235d-4376-b856-8a5c27045f80",
   "metadata": {},
   "source": [
    "### Importing the dataset"
   ]
  },
  {
   "cell_type": "code",
   "execution_count": 6,
   "id": "68f192b6-80b2-4a68-b070-2433c33f10dc",
   "metadata": {},
   "outputs": [
    {
     "name": "stdout",
     "output_type": "stream",
     "text": [
      "    R&D Spend  Administration  Marketing Spend       State    Profit\n",
      "45    1000.23       124153.04          1903.93    New York  64926.08\n",
      "46    1315.46       115816.21        297114.46     Florida  49490.75\n",
      "47       0.00       135426.92             0.00  California  42559.73\n",
      "48     542.05        51743.15             0.00    New York  35673.41\n",
      "49       0.00       116983.80         45173.06  California  14681.40\n"
     ]
    }
   ],
   "source": [
    "df = pd.read_csv('../datasets/50_Startups.csv')\n",
    "print(df.tail())"
   ]
  },
  {
   "cell_type": "code",
   "execution_count": 7,
   "id": "01ea8c69-e3f1-4270-bef1-8847da7669d8",
   "metadata": {},
   "outputs": [
    {
     "name": "stdout",
     "output_type": "stream",
     "text": [
      "[[165349.2 136897.8 471784.1 'New York']\n",
      " [162597.7 151377.59 443898.53 'California']\n",
      " [153441.51 101145.55 407934.54 'Florida']\n",
      " [144372.41 118671.85 383199.62 'New York']\n",
      " [142107.34 91391.77 366168.42 'Florida']\n",
      " [131876.9 99814.71 362861.36 'New York']\n",
      " [134615.46 147198.87 127716.82 'California']\n",
      " [130298.13 145530.06 323876.68 'Florida']\n",
      " [120542.52 148718.95 311613.29 'New York']\n",
      " [123334.88 108679.17 304981.62 'California']\n",
      " [101913.08 110594.11 229160.95 'Florida']\n",
      " [100671.96 91790.61 249744.55 'California']\n",
      " [93863.75 127320.38 249839.44 'Florida']\n",
      " [91992.39 135495.07 252664.93 'California']\n",
      " [119943.24 156547.42 256512.92 'Florida']\n",
      " [114523.61 122616.84 261776.23 'New York']\n",
      " [78013.11 121597.55 264346.06 'California']\n",
      " [94657.16 145077.58 282574.31 'New York']\n",
      " [91749.16 114175.79 294919.57 'Florida']\n",
      " [86419.7 153514.11 0.0 'New York']\n",
      " [76253.86 113867.3 298664.47 'California']\n",
      " [78389.47 153773.43 299737.29 'New York']\n",
      " [73994.56 122782.75 303319.26 'Florida']\n",
      " [67532.53 105751.03 304768.73 'Florida']\n",
      " [77044.01 99281.34 140574.81 'New York']\n",
      " [64664.71 139553.16 137962.62 'California']\n",
      " [75328.87 144135.98 134050.07 'Florida']\n",
      " [72107.6 127864.55 353183.81 'New York']\n",
      " [66051.52 182645.56 118148.2 'Florida']\n",
      " [65605.48 153032.06 107138.38 'New York']\n",
      " [61994.48 115641.28 91131.24 'Florida']\n",
      " [61136.38 152701.92 88218.23 'New York']\n",
      " [63408.86 129219.61 46085.25 'California']\n",
      " [55493.95 103057.49 214634.81 'Florida']\n",
      " [46426.07 157693.92 210797.67 'California']\n",
      " [46014.02 85047.44 205517.64 'New York']\n",
      " [28663.76 127056.21 201126.82 'Florida']\n",
      " [44069.95 51283.14 197029.42 'California']\n",
      " [20229.59 65947.93 185265.1 'New York']\n",
      " [38558.51 82982.09 174999.3 'California']\n",
      " [28754.33 118546.05 172795.67 'California']\n",
      " [27892.92 84710.77 164470.71 'Florida']\n",
      " [23640.93 96189.63 148001.11 'California']\n",
      " [15505.73 127382.3 35534.17 'New York']\n",
      " [22177.74 154806.14 28334.72 'California']\n",
      " [1000.23 124153.04 1903.93 'New York']\n",
      " [1315.46 115816.21 297114.46 'Florida']\n",
      " [0.0 135426.92 0.0 'California']\n",
      " [542.05 51743.15 0.0 'New York']\n",
      " [0.0 116983.8 45173.06 'California']]\n",
      "\n",
      "\n",
      "[192261.83 191792.06 191050.39 182901.99 166187.94 156991.12 156122.51\n",
      " 155752.6  152211.77 149759.96 146121.95 144259.4  141585.52 134307.35\n",
      " 132602.65 129917.04 126992.93 125370.37 124266.9  122776.86 118474.03\n",
      " 111313.02 110352.25 108733.99 108552.04 107404.34 105733.54 105008.31\n",
      " 103282.38 101004.64  99937.59  97483.56  97427.84  96778.92  96712.8\n",
      "  96479.51  90708.19  89949.14  81229.06  81005.76  78239.91  77798.83\n",
      "  71498.49  69758.98  65200.33  64926.08  49490.75  42559.73  35673.41\n",
      "  14681.4 ]\n"
     ]
    }
   ],
   "source": [
    "X = df.iloc[:, :-1].values\n",
    "y = df.iloc[:, -1].values\n",
    "print(X)\n",
    "print('\\n')\n",
    "print(y)"
   ]
  },
  {
   "cell_type": "markdown",
   "id": "e1580d7c-05fb-45a1-9b41-9ccdca0ae0a9",
   "metadata": {},
   "source": [
    "### Encoding Categorical Data"
   ]
  },
  {
   "cell_type": "code",
   "execution_count": 9,
   "id": "0df7b52b-6270-4012-92e1-ef4124553ea6",
   "metadata": {},
   "outputs": [
    {
     "name": "stdout",
     "output_type": "stream",
     "text": [
      "[[0.0 0.0 1.0 165349.2 136897.8 471784.1]\n",
      " [1.0 0.0 0.0 162597.7 151377.59 443898.53]\n",
      " [0.0 1.0 0.0 153441.51 101145.55 407934.54]\n",
      " [0.0 0.0 1.0 144372.41 118671.85 383199.62]\n",
      " [0.0 1.0 0.0 142107.34 91391.77 366168.42]\n",
      " [0.0 0.0 1.0 131876.9 99814.71 362861.36]\n",
      " [1.0 0.0 0.0 134615.46 147198.87 127716.82]\n",
      " [0.0 1.0 0.0 130298.13 145530.06 323876.68]\n",
      " [0.0 0.0 1.0 120542.52 148718.95 311613.29]\n",
      " [1.0 0.0 0.0 123334.88 108679.17 304981.62]\n",
      " [0.0 1.0 0.0 101913.08 110594.11 229160.95]\n",
      " [1.0 0.0 0.0 100671.96 91790.61 249744.55]\n",
      " [0.0 1.0 0.0 93863.75 127320.38 249839.44]\n",
      " [1.0 0.0 0.0 91992.39 135495.07 252664.93]\n",
      " [0.0 1.0 0.0 119943.24 156547.42 256512.92]\n",
      " [0.0 0.0 1.0 114523.61 122616.84 261776.23]\n",
      " [1.0 0.0 0.0 78013.11 121597.55 264346.06]\n",
      " [0.0 0.0 1.0 94657.16 145077.58 282574.31]\n",
      " [0.0 1.0 0.0 91749.16 114175.79 294919.57]\n",
      " [0.0 0.0 1.0 86419.7 153514.11 0.0]\n",
      " [1.0 0.0 0.0 76253.86 113867.3 298664.47]\n",
      " [0.0 0.0 1.0 78389.47 153773.43 299737.29]\n",
      " [0.0 1.0 0.0 73994.56 122782.75 303319.26]\n",
      " [0.0 1.0 0.0 67532.53 105751.03 304768.73]\n",
      " [0.0 0.0 1.0 77044.01 99281.34 140574.81]\n",
      " [1.0 0.0 0.0 64664.71 139553.16 137962.62]\n",
      " [0.0 1.0 0.0 75328.87 144135.98 134050.07]\n",
      " [0.0 0.0 1.0 72107.6 127864.55 353183.81]\n",
      " [0.0 1.0 0.0 66051.52 182645.56 118148.2]\n",
      " [0.0 0.0 1.0 65605.48 153032.06 107138.38]\n",
      " [0.0 1.0 0.0 61994.48 115641.28 91131.24]\n",
      " [0.0 0.0 1.0 61136.38 152701.92 88218.23]\n",
      " [1.0 0.0 0.0 63408.86 129219.61 46085.25]\n",
      " [0.0 1.0 0.0 55493.95 103057.49 214634.81]\n",
      " [1.0 0.0 0.0 46426.07 157693.92 210797.67]\n",
      " [0.0 0.0 1.0 46014.02 85047.44 205517.64]\n",
      " [0.0 1.0 0.0 28663.76 127056.21 201126.82]\n",
      " [1.0 0.0 0.0 44069.95 51283.14 197029.42]\n",
      " [0.0 0.0 1.0 20229.59 65947.93 185265.1]\n",
      " [1.0 0.0 0.0 38558.51 82982.09 174999.3]\n",
      " [1.0 0.0 0.0 28754.33 118546.05 172795.67]\n",
      " [0.0 1.0 0.0 27892.92 84710.77 164470.71]\n",
      " [1.0 0.0 0.0 23640.93 96189.63 148001.11]\n",
      " [0.0 0.0 1.0 15505.73 127382.3 35534.17]\n",
      " [1.0 0.0 0.0 22177.74 154806.14 28334.72]\n",
      " [0.0 0.0 1.0 1000.23 124153.04 1903.93]\n",
      " [0.0 1.0 0.0 1315.46 115816.21 297114.46]\n",
      " [1.0 0.0 0.0 0.0 135426.92 0.0]\n",
      " [0.0 0.0 1.0 542.05 51743.15 0.0]\n",
      " [1.0 0.0 0.0 0.0 116983.8 45173.06]]\n"
     ]
    }
   ],
   "source": [
    "from sklearn.compose import ColumnTransformer\n",
    "from sklearn.preprocessing import OneHotEncoder\n",
    "ct = ColumnTransformer(transformers=[('encoder', OneHotEncoder(), [3])], remainder='passthrough')\n",
    "X = np.array(ct.fit_transform(X))\n",
    "print(X)"
   ]
  },
  {
   "cell_type": "markdown",
   "id": "e719888e-da46-4cd2-a65f-06d8e6b30c11",
   "metadata": {},
   "source": [
    "### Splitting the dataset into the Training set and Test set"
   ]
  },
  {
   "cell_type": "code",
   "execution_count": 11,
   "id": "4955adf8-808a-445b-9f00-85f1a60772d8",
   "metadata": {},
   "outputs": [
    {
     "name": "stdout",
     "output_type": "stream",
     "text": [
      "[[0.0 1.0 0.0 55493.95 103057.49 214634.81]\n",
      " [0.0 0.0 1.0 46014.02 85047.44 205517.64]\n",
      " [0.0 1.0 0.0 75328.87 144135.98 134050.07]\n",
      " [1.0 0.0 0.0 46426.07 157693.92 210797.67]\n",
      " [0.0 1.0 0.0 91749.16 114175.79 294919.57]\n",
      " [0.0 1.0 0.0 130298.13 145530.06 323876.68]\n",
      " [0.0 1.0 0.0 119943.24 156547.42 256512.92]\n",
      " [0.0 0.0 1.0 1000.23 124153.04 1903.93]\n",
      " [0.0 0.0 1.0 542.05 51743.15 0.0]\n",
      " [0.0 0.0 1.0 65605.48 153032.06 107138.38]\n",
      " [0.0 0.0 1.0 114523.61 122616.84 261776.23]\n",
      " [0.0 1.0 0.0 61994.48 115641.28 91131.24]\n",
      " [1.0 0.0 0.0 63408.86 129219.61 46085.25]\n",
      " [1.0 0.0 0.0 78013.11 121597.55 264346.06]\n",
      " [1.0 0.0 0.0 23640.93 96189.63 148001.11]\n",
      " [1.0 0.0 0.0 76253.86 113867.3 298664.47]\n",
      " [0.0 0.0 1.0 15505.73 127382.3 35534.17]\n",
      " [0.0 0.0 1.0 120542.52 148718.95 311613.29]\n",
      " [1.0 0.0 0.0 91992.39 135495.07 252664.93]\n",
      " [1.0 0.0 0.0 64664.71 139553.16 137962.62]\n",
      " [0.0 0.0 1.0 131876.9 99814.71 362861.36]\n",
      " [0.0 0.0 1.0 94657.16 145077.58 282574.31]\n",
      " [1.0 0.0 0.0 28754.33 118546.05 172795.67]\n",
      " [1.0 0.0 0.0 0.0 116983.8 45173.06]\n",
      " [1.0 0.0 0.0 162597.7 151377.59 443898.53]\n",
      " [0.0 1.0 0.0 93863.75 127320.38 249839.44]\n",
      " [1.0 0.0 0.0 44069.95 51283.14 197029.42]\n",
      " [0.0 0.0 1.0 77044.01 99281.34 140574.81]\n",
      " [1.0 0.0 0.0 134615.46 147198.87 127716.82]\n",
      " [0.0 1.0 0.0 67532.53 105751.03 304768.73]\n",
      " [0.0 1.0 0.0 28663.76 127056.21 201126.82]\n",
      " [0.0 0.0 1.0 78389.47 153773.43 299737.29]\n",
      " [0.0 0.0 1.0 86419.7 153514.11 0.0]\n",
      " [1.0 0.0 0.0 123334.88 108679.17 304981.62]\n",
      " [1.0 0.0 0.0 38558.51 82982.09 174999.3]\n",
      " [0.0 1.0 0.0 1315.46 115816.21 297114.46]\n",
      " [0.0 0.0 1.0 144372.41 118671.85 383199.62]\n",
      " [0.0 0.0 1.0 165349.2 136897.8 471784.1]\n",
      " [1.0 0.0 0.0 0.0 135426.92 0.0]\n",
      " [1.0 0.0 0.0 22177.74 154806.14 28334.72]]\n",
      "\n",
      "\n",
      "[[0.0 1.0 0.0 66051.52 182645.56 118148.2]\n",
      " [1.0 0.0 0.0 100671.96 91790.61 249744.55]\n",
      " [0.0 1.0 0.0 101913.08 110594.11 229160.95]\n",
      " [0.0 1.0 0.0 27892.92 84710.77 164470.71]\n",
      " [0.0 1.0 0.0 153441.51 101145.55 407934.54]\n",
      " [0.0 0.0 1.0 72107.6 127864.55 353183.81]\n",
      " [0.0 0.0 1.0 20229.59 65947.93 185265.1]\n",
      " [0.0 0.0 1.0 61136.38 152701.92 88218.23]\n",
      " [0.0 1.0 0.0 73994.56 122782.75 303319.26]\n",
      " [0.0 1.0 0.0 142107.34 91391.77 366168.42]]\n",
      "\n",
      "\n",
      "[ 96778.92  96479.51 105733.54  96712.8  124266.9  155752.6  132602.65\n",
      "  64926.08  35673.41 101004.64 129917.04  99937.59  97427.84 126992.93\n",
      "  71498.49 118474.03  69758.98 152211.77 134307.35 107404.34 156991.12\n",
      " 125370.37  78239.91  14681.4  191792.06 141585.52  89949.14 108552.04\n",
      " 156122.51 108733.99  90708.19 111313.02 122776.86 149759.96  81005.76\n",
      "  49490.75 182901.99 192261.83  42559.73  65200.33]\n",
      "\n",
      "\n",
      "[103282.38 144259.4  146121.95  77798.83 191050.39 105008.31  81229.06\n",
      "  97483.56 110352.25 166187.94]\n"
     ]
    }
   ],
   "source": [
    "from sklearn.model_selection import train_test_split\n",
    "X_train, X_test, y_train, y_test = train_test_split(X, y, test_size = 0.2, random_state = 0)\n",
    "print(X_train)\n",
    "print('\\n')\n",
    "print(X_test)\n",
    "print('\\n')\n",
    "print(y_train)\n",
    "print('\\n')\n",
    "print(y_test)"
   ]
  },
  {
   "cell_type": "markdown",
   "id": "d80e4950-1ee1-4cbe-933f-c4e7f0b290aa",
   "metadata": {},
   "source": [
    "### Feature Scaling"
   ]
  },
  {
   "cell_type": "code",
   "execution_count": 13,
   "id": "159ba932-8dad-423f-8359-fa38d6f5dc2d",
   "metadata": {},
   "outputs": [
    {
     "name": "stdout",
     "output_type": "stream",
     "text": [
      "[[0.0 1.0 0.0 -0.3500645436227844 -0.7854710924793271 0.1011968019362538]\n",
      " [0.0 0.0 1.0 -0.555303187426314 -1.481174262628151 0.02734979174277092]\n",
      " [0.0 1.0 0.0 0.07935762307586282 0.8013338146656704 -0.551521323997471]\n",
      " [1.0 0.0 0.0 -0.5463823849331263 1.3250581707161837 0.07011683779235604]\n",
      " [0.0 1.0 0.0 0.4348537132854595 -0.3559866348200946 0.7514851578736048]\n",
      " [0.0 1.0 0.0 1.2694314288195354 0.855185185174973 0.986031184474382]\n",
      " [0.0 1.0 0.0 1.045250070905001 1.2807704710942711 0.44039999942558483]\n",
      " [0.0 0.0 1.0 -1.529843000700978 0.029420649133439825 -1.6218751012780783]\n",
      " [0.0 0.0 1.0 -1.5397625087372082 -2.767672641730695 -1.6372965026688253]\n",
      " [0.0 0.0 1.0 -0.13115188245559178 1.144977005989267 -0.7694999122824163]\n",
      " [0.0 0.0 1.0 0.927916133722245 -0.029920619212990152 0.4830316172654914]\n",
      " [0.0 1.0 0.0 -0.20932933131592557 -0.29937679537926 -0.8991541175619614]\n",
      " [1.0 0.0 0.0 -0.17870827894287686 0.2251351979981532 -1.2640164249123271]\n",
      " [1.0 0.0 0.0 0.13747089788308053 -0.06929437355020689 0.5038466577007928]\n",
      " [1.0 0.0 0.0 -1.0396762417942589 -1.0507669675123394\n",
      "  -0.43852106261266766]\n",
      " [1.0 0.0 0.0 0.09938347697265615 -0.3679031742499798 0.7818179989277446]\n",
      " [0.0 0.0 1.0 -1.2158017422009575 0.15416246935241742 -1.3494777810472085]\n",
      " [0.0 0.0 1.0 1.0582243665441649 0.9783675684696275 0.8867005055096748]\n",
      " [1.0 0.0 0.0 0.4401195955580429 0.4675474853678242 0.40923215274131525]\n",
      " [1.0 0.0 0.0 -0.15151937028841816 0.6243058551529852 -0.5198305559485576]\n",
      " [0.0 0.0 1.0 1.303611492773351 -0.9107351714849491 1.3017982548865463]\n",
      " [0.0 0.0 1.0 0.49781134864570625 0.837706512410103 0.6514913504683245]\n",
      " [1.0 0.0 0.0 -0.9289721246515195 -0.1871695723258425\n",
      "  -0.23769074738733695]\n",
      " [1.0 0.0 0.0 -1.5514977859885914 -0.24751711592316733\n",
      "  -1.2714049571244492]\n",
      " [1.0 0.0 0.0 1.968710847785411 1.0810671321179492 1.9581809612571657]\n",
      " [0.0 1.0 0.0 0.48063417620032334 0.1517705859153579 0.3863463242625676]\n",
      " [1.0 0.0 0.0 -0.5973919254506589 -2.7854421879174165\n",
      "  -0.04140286602981931]\n",
      " [0.0 0.0 1.0 0.11649007105102568 -0.9313385123897375\n",
      "  -0.49867240911600824]\n",
      " [1.0 0.0 0.0 1.3629007850333776 0.9196489932918887 -0.6028192132885423]\n",
      " [0.0 1.0 0.0 -0.08943162412651208 -0.6814233903950654 0.8312611211294444]\n",
      " [0.0 1.0 0.0 -0.9309329475657485 0.14156606641329023\n",
      "  -0.008214854885267122]\n",
      " [0.0 0.0 1.0 0.14561901880611441 1.173615097457821 0.790507597726031]\n",
      " [0.0 0.0 1.0 0.31947193909459937 1.1635979267068792 -1.6372965026688253]\n",
      " [1.0 0.0 0.0 1.1186784183579679 -0.5683134167614787 0.8329854818685873]\n",
      " [1.0 0.0 0.0 -0.7167135313068757 -1.5609558591515853\n",
      "  -0.21984184393674172]\n",
      " [0.0 1.0 0.0 -1.5230183324084707 -0.29261949289791545 0.7692632693055047]\n",
      " [0.0 0.0 1.0 1.5741368580485635 -0.1823100933791031 1.4665335503277532]\n",
      " [0.0 0.0 1.0 2.0282802885329074 0.5217329933404754 2.184047756769488]\n",
      " [1.0 0.0 0.0 -1.5514977859885914 0.46491494569993663 -1.6372965026688253]\n",
      " [1.0 0.0 0.0 -1.0713540211899808 1.2135072477208355 -1.4077916939760526]]\n",
      "\n",
      "\n",
      "[[0.0 1.0 0.0 -0.12149520306216502 2.2889053032012234 -0.6803228661410794]\n",
      " [1.0 0.0 0.0 0.6280306007656555 -1.2206949887864658 0.38557773677354845]\n",
      " [0.0 1.0 0.0 0.6549006077802048 -0.49434194923946795 0.21885524294941494]\n",
      " [0.0 1.0 0.0 -0.947621483893497 -1.494179356244993 -0.30512103616996794]\n",
      " [0.0 1.0 0.0 1.770481112122021 -0.8593266741758989 1.666880795073106]\n",
      " [0.0 0.0 1.0 0.009617753042540427 0.17279111579172604 1.2234122937277723]\n",
      " [0.0 0.0 1.0 -1.1135310904221214 -2.218961756571209 -0.13669119113063422]\n",
      " [0.0 0.0 1.0 -0.22790702970059823 1.1322241571857976 -0.922748838200462]\n",
      " [0.0 1.0 0.0 0.0504700706558041 -0.023511746780132174 0.819520742715403]\n",
      " [0.0 1.0 0.0 1.5250985323520592 -1.2361016229924873 1.3285846911963288]]\n"
     ]
    }
   ],
   "source": [
    "from sklearn.preprocessing import StandardScaler\n",
    "sc = StandardScaler()\n",
    "X_train[:, 3:] = sc.fit_transform(X_train[:, 3:])\n",
    "X_test[:, 3:] = sc.transform(X_test[:, 3:])\n",
    "print(X_train)\n",
    "print('\\n')\n",
    "print(X_test)"
   ]
  },
  {
   "cell_type": "markdown",
   "id": "966bbf5b-6765-4233-94ef-8e74671dfbbe",
   "metadata": {},
   "source": [
    "### Training the Ridge and Lasso model on the whole dataset"
   ]
  },
  {
   "cell_type": "code",
   "execution_count": 15,
   "id": "fd1b90fd-b617-48aa-ba7a-bfdc5c949be1",
   "metadata": {},
   "outputs": [
    {
     "data": {
      "text/html": [
       "<style>#sk-container-id-1 {color: black;background-color: white;}#sk-container-id-1 pre{padding: 0;}#sk-container-id-1 div.sk-toggleable {background-color: white;}#sk-container-id-1 label.sk-toggleable__label {cursor: pointer;display: block;width: 100%;margin-bottom: 0;padding: 0.3em;box-sizing: border-box;text-align: center;}#sk-container-id-1 label.sk-toggleable__label-arrow:before {content: \"▸\";float: left;margin-right: 0.25em;color: #696969;}#sk-container-id-1 label.sk-toggleable__label-arrow:hover:before {color: black;}#sk-container-id-1 div.sk-estimator:hover label.sk-toggleable__label-arrow:before {color: black;}#sk-container-id-1 div.sk-toggleable__content {max-height: 0;max-width: 0;overflow: hidden;text-align: left;background-color: #f0f8ff;}#sk-container-id-1 div.sk-toggleable__content pre {margin: 0.2em;color: black;border-radius: 0.25em;background-color: #f0f8ff;}#sk-container-id-1 input.sk-toggleable__control:checked~div.sk-toggleable__content {max-height: 200px;max-width: 100%;overflow: auto;}#sk-container-id-1 input.sk-toggleable__control:checked~label.sk-toggleable__label-arrow:before {content: \"▾\";}#sk-container-id-1 div.sk-estimator input.sk-toggleable__control:checked~label.sk-toggleable__label {background-color: #d4ebff;}#sk-container-id-1 div.sk-label input.sk-toggleable__control:checked~label.sk-toggleable__label {background-color: #d4ebff;}#sk-container-id-1 input.sk-hidden--visually {border: 0;clip: rect(1px 1px 1px 1px);clip: rect(1px, 1px, 1px, 1px);height: 1px;margin: -1px;overflow: hidden;padding: 0;position: absolute;width: 1px;}#sk-container-id-1 div.sk-estimator {font-family: monospace;background-color: #f0f8ff;border: 1px dotted black;border-radius: 0.25em;box-sizing: border-box;margin-bottom: 0.5em;}#sk-container-id-1 div.sk-estimator:hover {background-color: #d4ebff;}#sk-container-id-1 div.sk-parallel-item::after {content: \"\";width: 100%;border-bottom: 1px solid gray;flex-grow: 1;}#sk-container-id-1 div.sk-label:hover label.sk-toggleable__label {background-color: #d4ebff;}#sk-container-id-1 div.sk-serial::before {content: \"\";position: absolute;border-left: 1px solid gray;box-sizing: border-box;top: 0;bottom: 0;left: 50%;z-index: 0;}#sk-container-id-1 div.sk-serial {display: flex;flex-direction: column;align-items: center;background-color: white;padding-right: 0.2em;padding-left: 0.2em;position: relative;}#sk-container-id-1 div.sk-item {position: relative;z-index: 1;}#sk-container-id-1 div.sk-parallel {display: flex;align-items: stretch;justify-content: center;background-color: white;position: relative;}#sk-container-id-1 div.sk-item::before, #sk-container-id-1 div.sk-parallel-item::before {content: \"\";position: absolute;border-left: 1px solid gray;box-sizing: border-box;top: 0;bottom: 0;left: 50%;z-index: -1;}#sk-container-id-1 div.sk-parallel-item {display: flex;flex-direction: column;z-index: 1;position: relative;background-color: white;}#sk-container-id-1 div.sk-parallel-item:first-child::after {align-self: flex-end;width: 50%;}#sk-container-id-1 div.sk-parallel-item:last-child::after {align-self: flex-start;width: 50%;}#sk-container-id-1 div.sk-parallel-item:only-child::after {width: 0;}#sk-container-id-1 div.sk-dashed-wrapped {border: 1px dashed gray;margin: 0 0.4em 0.5em 0.4em;box-sizing: border-box;padding-bottom: 0.4em;background-color: white;}#sk-container-id-1 div.sk-label label {font-family: monospace;font-weight: bold;display: inline-block;line-height: 1.2em;}#sk-container-id-1 div.sk-label-container {text-align: center;}#sk-container-id-1 div.sk-container {/* jupyter's `normalize.less` sets `[hidden] { display: none; }` but bootstrap.min.css set `[hidden] { display: none !important; }` so we also need the `!important` here to be able to override the default hidden behavior on the sphinx rendered scikit-learn.org. See: https://github.com/scikit-learn/scikit-learn/issues/21755 */display: inline-block !important;position: relative;}#sk-container-id-1 div.sk-text-repr-fallback {display: none;}</style><div id=\"sk-container-id-1\" class=\"sk-top-container\"><div class=\"sk-text-repr-fallback\"><pre>Lasso(alpha=0.01, max_iter=10000)</pre><b>In a Jupyter environment, please rerun this cell to show the HTML representation or trust the notebook. <br />On GitHub, the HTML representation is unable to render, please try loading this page with nbviewer.org.</b></div><div class=\"sk-container\" hidden><div class=\"sk-item\"><div class=\"sk-estimator sk-toggleable\"><input class=\"sk-toggleable__control sk-hidden--visually\" id=\"sk-estimator-id-1\" type=\"checkbox\" checked><label for=\"sk-estimator-id-1\" class=\"sk-toggleable__label sk-toggleable__label-arrow\">Lasso</label><div class=\"sk-toggleable__content\"><pre>Lasso(alpha=0.01, max_iter=10000)</pre></div></div></div></div></div>"
      ],
      "text/plain": [
       "Lasso(alpha=0.01, max_iter=10000)"
      ]
     },
     "execution_count": 15,
     "metadata": {},
     "output_type": "execute_result"
    }
   ],
   "source": [
    "from sklearn.linear_model import Ridge, Lasso\n",
    "\n",
    "# Ridge Regression with cross-validated alpha\n",
    "ridge_reg = Ridge(alpha=1.0)\n",
    "ridge_reg.fit(X_train, y_train)\n",
    "\n",
    "# Lasso Regression with adjusted parameters\n",
    "lasso_reg = Lasso(alpha=0.01, max_iter=10000)\n",
    "lasso_reg.fit(X_train, y_train)"
   ]
  },
  {
   "cell_type": "markdown",
   "id": "d8ab1607-d324-4bef-9749-511ec4abfc83",
   "metadata": {},
   "source": [
    "### Predict a new result with Ridge"
   ]
  },
  {
   "cell_type": "code",
   "execution_count": 17,
   "id": "e6b7862c-b281-4918-9f58-5207a08b75f0",
   "metadata": {},
   "outputs": [
    {
     "name": "stdout",
     "output_type": "stream",
     "text": [
      "Ridge Regression Predictions vs Actual:\n",
      "Predicted: 103409.84, Actual: 103282.38\n",
      "Predicted: 131038.80, Actual: 144259.40\n",
      "Predicted: 130934.39, Actual: 146121.95\n",
      "Predicted: 72408.13, Actual: 77798.83\n",
      "Predicted: 176428.55, Actual: 191050.39\n",
      "Predicted: 118061.35, Actual: 105008.31\n",
      "Predicted: 68987.45, Actual: 81229.06\n",
      "Predicted: 99037.58, Actual: 97483.56\n",
      "Predicted: 114625.47, Actual: 110352.25\n",
      "Predicted: 165673.05, Actual: 166187.94\n"
     ]
    }
   ],
   "source": [
    "y_pred_ridge = ridge_reg.predict(X_test)\n",
    "\n",
    "print(\"Ridge Regression Predictions vs Actual:\")\n",
    "for pred, actual in zip(y_pred_ridge, y_test):\n",
    "    print(f\"Predicted: {pred:.2f}, Actual: {actual:.2f}\")"
   ]
  },
  {
   "cell_type": "markdown",
   "id": "195111c3-a0b3-4356-9d91-5897330c18dd",
   "metadata": {},
   "source": [
    "### Predict a new result with Lasso"
   ]
  },
  {
   "cell_type": "code",
   "execution_count": 19,
   "id": "9aede2d8-8f9c-47ca-966b-cb5663863343",
   "metadata": {},
   "outputs": [
    {
     "name": "stdout",
     "output_type": "stream",
     "text": [
      "Lasso Regression Predictions vs Actual:\n",
      "Predicted: 103015.22, Actual: 103282.38\n",
      "Predicted: 132582.31, Actual: 144259.40\n",
      "Predicted: 132447.80, Actual: 146121.95\n",
      "Predicted: 71976.15, Actual: 77798.83\n",
      "Predicted: 178537.53, Actual: 191050.39\n",
      "Predicted: 116161.17, Actual: 105008.31\n",
      "Predicted: 67851.67, Actual: 81229.06\n",
      "Predicted: 98791.70, Actual: 97483.56\n",
      "Predicted: 113969.45, Actual: 110352.25\n",
      "Predicted: 167921.12, Actual: 166187.94\n"
     ]
    }
   ],
   "source": [
    "# Predicting the Test set results with Lasso\n",
    "y_pred_lasso = lasso_reg.predict(X_test)\n",
    "\n",
    "# Displaying predictions vs actual\n",
    "print(\"Lasso Regression Predictions vs Actual:\")\n",
    "for pred, actual in zip(y_pred_lasso, y_test):\n",
    "    print(f\"Predicted: {pred:.2f}, Actual: {actual:.2f}\")"
   ]
  },
  {
   "cell_type": "markdown",
   "id": "e9f36cb0-5668-4607-bdf9-df7dd104616b",
   "metadata": {},
   "source": [
    "### Visualisng the Ridge Regression Results"
   ]
  },
  {
   "cell_type": "code",
   "execution_count": 21,
   "id": "47c929b6-084e-4fab-bc6d-905224bdf0aa",
   "metadata": {},
   "outputs": [
    {
     "data": {
      "image/png": "[encoded data removed]",
      "text/plain": [
       "<Figure size 1000x600 with 1 Axes>"
      ]
     },
     "metadata": {},
     "output_type": "display_data"
    }
   ],
   "source": [
    "# Visualizing Ridge Regression results\n",
    "plt.figure(figsize=(10, 6))\n",
    "plt.scatter(y_test, y_pred_ridge, color='blue', label='Predictions')\n",
    "plt.plot([min(y_test), max(y_test)], [min(y_test), max(y_test)], color='red', linestyle='--', label='Perfect Prediction')\n",
    "plt.title('Ridge Regression: Actual vs Predicted')\n",
    "plt.xlabel('Actual Profit')\n",
    "plt.ylabel('Predicted Profit')\n",
    "plt.legend()\n",
    "plt.grid(True)\n",
    "plt.show()"
   ]
  },
  {
   "cell_type": "markdown",
   "id": "0b106703-146c-43ab-89a7-23971b77fae4",
   "metadata": {},
   "source": [
    "### Visualisng the Lasso Regression Results"
   ]
  },
  {
   "cell_type": "code",
   "execution_count": 23,
   "id": "3aaacb68-2ddf-4578-abf8-887f0b552450",
   "metadata": {},
   "outputs": [
    {
     "data": {
      "image/png": "[encoded data removed]",
      "text/plain": [
       "<Figure size 1000x600 with 1 Axes>"
      ]
     },
     "metadata": {},
     "output_type": "display_data"
    }
   ],
   "source": [
    "# Visualizing Lasso Regression results\n",
    "plt.figure(figsize=(10, 6))\n",
    "plt.scatter(y_test, y_pred_lasso, color='green', label='Predictions')\n",
    "plt.plot([min(y_test), max(y_test)], [min(y_test), max(y_test)], color='red', linestyle='--', label='Perfect Prediction')\n",
    "plt.title('Lasso Regression: Actual vs Predicted')\n",
    "plt.xlabel('Actual Profit')\n",
    "plt.ylabel('Predicted Profit')\n",
    "plt.legend()\n",
    "plt.grid(True)\n",
    "plt.show()"
   ]
  },
  {
   "cell_type": "markdown",
   "id": "8072855e-146b-4185-979f-0e335af6f061",
   "metadata": {},
   "source": [
    "### Evaluating the performance metrics of Ridge Regression"
   ]
  },
  {
   "cell_type": "code",
   "execution_count": 25,
   "id": "3014c618-2fbd-453b-a240-29d89283457e",
   "metadata": {},
   "outputs": [
    {
     "name": "stdout",
     "output_type": "stream",
     "text": [
      "Ridge Regression Performance Metrics (Test Set):\n",
      "R2 Score: 0.9226283453857743\n",
      "MAE: 8018.493874481035\n",
      "MSE: 98949958.62287135\n",
      "RMSE: 9947.359379396692\n"
     ]
    }
   ],
   "source": [
    "from sklearn.metrics import r2_score, mean_absolute_error, mean_squared_error\n",
    "print('Ridge Regression Performance Metrics (Test Set):')\n",
    "print('R2 Score:', r2_score(y_test, y_pred_ridge))\n",
    "print('MAE:', mean_absolute_error(y_test, y_pred_ridge))\n",
    "print('MSE:', mean_squared_error(y_test, y_pred_ridge))\n",
    "print('RMSE:', np.sqrt(mean_squared_error(y_test, y_pred_ridge)))"
   ]
  },
  {
   "cell_type": "markdown",
   "id": "bff7f106-92ed-45a5-b8e6-ed0520761053",
   "metadata": {},
   "source": [
    "### Evaluating the performance metrics of Lasso Regression"
   ]
  },
  {
   "cell_type": "code",
   "execution_count": 27,
   "id": "058667ba-4e27-47b2-8df6-79e810b6396f",
   "metadata": {},
   "outputs": [
    {
     "name": "stdout",
     "output_type": "stream",
     "text": [
      "Lasso Regression Performance Metrics (Test Set):\n",
      "R2 Score: 0.9347072284602278\n",
      "MAE: 7514.272526934071\n",
      "MSE: 83502376.60608552\n",
      "RMSE: 9137.963482422412\n"
     ]
    }
   ],
   "source": [
    "print('Lasso Regression Performance Metrics (Test Set):')\n",
    "print('R2 Score:', r2_score(y_test, y_pred_lasso))\n",
    "print('MAE:', mean_absolute_error(y_test, y_pred_lasso))\n",
    "print('MSE:', mean_squared_error(y_test, y_pred_lasso))\n",
    "print('RMSE:', np.sqrt(mean_squared_error(y_test, y_pred_lasso)))"
   ]
  }
 ],
 "metadata": {
  "kernelspec": {
   "display_name": "Python 3 (ipykernel)",
   "language": "python",
   "name": "python3"
  },
  "language_info": {
   "codemirror_mode": {
    "name": "ipython",
    "version": 3
   },
   "file_extension": ".py",
   "mimetype": "text/x-python",
   "name": "python",
   "nbconvert_exporter": "python",
   "pygments_lexer": "ipython3",
   "version": "3.11.7"
  }
 },
 "nbformat": 4,
 "nbformat_minor": 5
}
