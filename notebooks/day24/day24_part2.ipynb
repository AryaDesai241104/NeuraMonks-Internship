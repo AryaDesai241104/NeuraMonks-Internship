{
 "cells": [
  {
   "cell_type": "markdown",
   "id": "9a341114-c869-4e7f-867b-757f81dbf8fe",
   "metadata": {},
   "source": [
    "### PCA - Principal Component Analysis"
   ]
  },
  {
   "cell_type": "markdown",
   "id": "8ee2db0c-a927-4e08-be8b-1c60fc50a132",
   "metadata": {},
   "source": [
    "### **What is PCA ?**\n",
    "**Principal Component Analysis (PCA)** is a **dimensionality reduction technique** used in machine learning and statistics to simplify large datasets while preserving as much variability (information) as possible.\n",
    "\n",
    "---\n",
    "\n",
    "### **What is the goal of PCA?**\n",
    "\n",
    "To reduce the number of input features (dimensions) by transforming the original variables into a **new set of variables** called **principal components** that:\n",
    "\n",
    "* Are **uncorrelated** (orthogonal),\n",
    "* Are **ranked by importance**, meaning the first few components capture the **most variance** in the data.\n",
    "\n",
    "---\n",
    "\n",
    "### **Why do we use PCA?**\n",
    "\n",
    "* To **visualize** high-dimensional data in 2D or 3D.\n",
    "* To **reduce computational cost** for ML models.\n",
    "* To **remove noise or redundancy** (especially if features are correlated).\n",
    "* To avoid the **curse of dimensionality** in high-dimensional spaces.\n",
    "\n",
    "---\n",
    "\n",
    "### **How PCA works (Step-by-Step):**\n",
    "\n",
    "1. **Standardize the data**: Scale features so they have mean 0 and variance 1.\n",
    "2. **Compute the covariance matrix** of the features.\n",
    "3. **Compute the eigenvectors and eigenvalues** of the covariance matrix.\n",
    "\n",
    "   * Eigenvectors define the **directions** of the new feature space (principal components).\n",
    "   * Eigenvalues define the **magnitude** (importance) of each component.\n",
    "4. **Sort eigenvectors** by decreasing eigenvalues — the top `k` are chosen for the new feature space.\n",
    "5. **Project the data** onto these `k` principal components.\n",
    "\n",
    "---\n",
    "\n",
    "### **Example:**\n",
    "\n",
    "Suppose you have a dataset with 100 features, but most of the variance (say, 95%) is explained by just 3 components. PCA lets you **reduce** your data to 3 dimensions with minimal information loss.\n",
    "\n",
    "---\n",
    "\n",
    "### **Important Notes:**\n",
    "\n",
    "* PCA is **unsupervised** — it doesn’t use labels.\n",
    "* It's a **linear** technique — it may not capture complex nonlinear relationships.\n",
    "* After PCA, features lose their original meaning (e.g., “age” or “income” no longer have direct interpretations)."
   ]
  },
  {
   "cell_type": "markdown",
   "id": "2b59c05c-5d0d-4ce0-a2be-26d8ce2cbd25",
   "metadata": {},
   "source": [
    "### Importing the libraries"
   ]
  },
  {
   "cell_type": "code",
   "execution_count": 4,
   "id": "8ad30174-8d56-4731-9d2f-5b1112010b54",
   "metadata": {},
   "outputs": [],
   "source": [
    "import numpy as np\n",
    "import matplotlib.pyplot as plt\n",
    "import pandas as pd"
   ]
  },
  {
   "cell_type": "markdown",
   "id": "a20e3878-e6d9-4c5e-8074-9583d6ed1117",
   "metadata": {},
   "source": [
    "### Importing the dataset"
   ]
  },
  {
   "cell_type": "code",
   "execution_count": 6,
   "id": "82889393-8f06-4e88-ae3e-809c7ca15171",
   "metadata": {},
   "outputs": [
    {
     "name": "stdout",
     "output_type": "stream",
     "text": [
      "     Alcohol  Malic_Acid   Ash  Ash_Alcanity  Magnesium  Total_Phenols  \\\n",
      "145    13.16        3.57  2.15          21.0        102           1.50   \n",
      "25     13.05        2.05  3.22          25.0        124           2.63   \n",
      "6      14.39        1.87  2.45          14.6         96           2.50   \n",
      "26     13.39        1.77  2.62          16.1         93           2.85   \n",
      "90     12.08        1.83  2.32          18.5         81           1.60   \n",
      "\n",
      "     Flavanoids  Nonflavanoid_Phenols  Proanthocyanins  Color_Intensity   Hue  \\\n",
      "145        0.55                  0.43             1.30             4.00  0.60   \n",
      "25         2.68                  0.47             1.92             3.58  1.13   \n",
      "6          2.52                  0.30             1.98             5.25  1.02   \n",
      "26         2.94                  0.34             1.45             4.80  0.92   \n",
      "90         1.50                  0.52             1.64             2.40  1.08   \n",
      "\n",
      "     OD280  Proline  Customer_Segment  \n",
      "145   1.68      830                 3  \n",
      "25    3.20      830                 1  \n",
      "6     3.58     1290                 1  \n",
      "26    3.22     1195                 1  \n",
      "90    2.27      480                 2  \n"
     ]
    }
   ],
   "source": [
    "df = pd.read_csv('../../datasets/Wine.csv')\n",
    "print(df.sample(5))"
   ]
  },
  {
   "cell_type": "code",
   "execution_count": 7,
   "id": "f0bd79e5-6c12-4499-8bc0-b840e136a015",
   "metadata": {},
   "outputs": [
    {
     "name": "stdout",
     "output_type": "stream",
     "text": [
      "[[1.423e+01 1.710e+00 2.430e+00 ... 1.040e+00 3.920e+00 1.065e+03]\n",
      " [1.320e+01 1.780e+00 2.140e+00 ... 1.050e+00 3.400e+00 1.050e+03]\n",
      " [1.316e+01 2.360e+00 2.670e+00 ... 1.030e+00 3.170e+00 1.185e+03]\n",
      " ...\n",
      " [1.327e+01 4.280e+00 2.260e+00 ... 5.900e-01 1.560e+00 8.350e+02]\n",
      " [1.317e+01 2.590e+00 2.370e+00 ... 6.000e-01 1.620e+00 8.400e+02]\n",
      " [1.413e+01 4.100e+00 2.740e+00 ... 6.100e-01 1.600e+00 5.600e+02]]\n",
      "\n",
      "\n",
      "[1 1 1 1 1 1 1 1 1 1 1 1 1 1 1 1 1 1 1 1 1 1 1 1 1 1 1 1 1 1 1 1 1 1 1 1 1\n",
      " 1 1 1 1 1 1 1 1 1 1 1 1 1 1 1 1 1 1 1 1 1 1 2 2 2 2 2 2 2 2 2 2 2 2 2 2 2\n",
      " 2 2 2 2 2 2 2 2 2 2 2 2 2 2 2 2 2 2 2 2 2 2 2 2 2 2 2 2 2 2 2 2 2 2 2 2 2\n",
      " 2 2 2 2 2 2 2 2 2 2 2 2 2 2 2 2 2 2 2 3 3 3 3 3 3 3 3 3 3 3 3 3 3 3 3 3 3\n",
      " 3 3 3 3 3 3 3 3 3 3 3 3 3 3 3 3 3 3 3 3 3 3 3 3 3 3 3 3 3 3]\n"
     ]
    }
   ],
   "source": [
    "X = df.iloc[:, :-1].values\n",
    "y = df.iloc[:, -1].values\n",
    "print(X)\n",
    "print('\\n')\n",
    "print(y)"
   ]
  },
  {
   "cell_type": "markdown",
   "id": "bf09240c-fb19-4aa5-b18c-6648e1ad47d4",
   "metadata": {},
   "source": [
    "### Splitting the dataset into the Training set and Test set"
   ]
  },
  {
   "cell_type": "code",
   "execution_count": 9,
   "id": "eeec9a94-69e4-462f-af3e-b596e221b4a6",
   "metadata": {},
   "outputs": [
    {
     "name": "stdout",
     "output_type": "stream",
     "text": [
      "[[1.434e+01 1.680e+00 2.700e+00 ... 5.700e-01 1.960e+00 6.600e+02]\n",
      " [1.253e+01 5.510e+00 2.640e+00 ... 8.200e-01 1.690e+00 5.150e+02]\n",
      " [1.237e+01 1.070e+00 2.100e+00 ... 1.040e+00 2.770e+00 6.600e+02]\n",
      " ...\n",
      " [1.438e+01 1.870e+00 2.380e+00 ... 1.200e+00 3.000e+00 1.547e+03]\n",
      " [1.269e+01 1.530e+00 2.260e+00 ... 9.600e-01 2.060e+00 4.950e+02]\n",
      " [1.234e+01 2.450e+00 2.460e+00 ... 8.000e-01 3.380e+00 4.380e+02]]\n",
      "\n",
      "\n",
      "[[1.364000e+01 3.100000e+00 2.560000e+00 1.520000e+01 1.160000e+02\n",
      "  2.700000e+00 3.030000e+00 1.700000e-01 1.660000e+00 5.100000e+00\n",
      "  9.600000e-01 3.360000e+00 8.450000e+02]\n",
      " [1.421000e+01 4.040000e+00 2.440000e+00 1.890000e+01 1.110000e+02\n",
      "  2.850000e+00 2.650000e+00 3.000000e-01 1.250000e+00 5.240000e+00\n",
      "  8.700000e-01 3.330000e+00 1.080000e+03]\n",
      " [1.293000e+01 2.810000e+00 2.700000e+00 2.100000e+01 9.600000e+01\n",
      "  1.540000e+00 5.000000e-01 5.300000e-01 7.500000e-01 4.600000e+00\n",
      "  7.700000e-01 2.310000e+00 6.000000e+02]\n",
      " [1.373000e+01 1.500000e+00 2.700000e+00 2.250000e+01 1.010000e+02\n",
      "  3.000000e+00 3.250000e+00 2.900000e-01 2.380000e+00 5.700000e+00\n",
      "  1.190000e+00 2.710000e+00 1.285000e+03]\n",
      " [1.237000e+01 1.170000e+00 1.920000e+00 1.960000e+01 7.800000e+01\n",
      "  2.110000e+00 2.000000e+00 2.700000e-01 1.040000e+00 4.680000e+00\n",
      "  1.120000e+00 3.480000e+00 5.100000e+02]\n",
      " [1.430000e+01 1.920000e+00 2.720000e+00 2.000000e+01 1.200000e+02\n",
      "  2.800000e+00 3.140000e+00 3.300000e-01 1.970000e+00 6.200000e+00\n",
      "  1.070000e+00 2.650000e+00 1.280000e+03]\n",
      " [1.200000e+01 3.430000e+00 2.000000e+00 1.900000e+01 8.700000e+01\n",
      "  2.000000e+00 1.640000e+00 3.700000e-01 1.870000e+00 1.280000e+00\n",
      "  9.300000e-01 3.050000e+00 5.640000e+02]\n",
      " [1.340000e+01 3.910000e+00 2.480000e+00 2.300000e+01 1.020000e+02\n",
      "  1.800000e+00 7.500000e-01 4.300000e-01 1.410000e+00 7.300000e+00\n",
      "  7.000000e-01 1.560000e+00 7.500000e+02]\n",
      " [1.161000e+01 1.350000e+00 2.700000e+00 2.000000e+01 9.400000e+01\n",
      "  2.740000e+00 2.920000e+00 2.900000e-01 2.490000e+00 2.650000e+00\n",
      "  9.600000e-01 3.260000e+00 6.800000e+02]\n",
      " [1.336000e+01 2.560000e+00 2.350000e+00 2.000000e+01 8.900000e+01\n",
      "  1.400000e+00 5.000000e-01 3.700000e-01 6.400000e-01 5.600000e+00\n",
      "  7.000000e-01 2.470000e+00 7.800000e+02]\n",
      " [1.350000e+01 1.810000e+00 2.610000e+00 2.000000e+01 9.600000e+01\n",
      "  2.530000e+00 2.610000e+00 2.800000e-01 1.660000e+00 3.520000e+00\n",
      "  1.120000e+00 3.820000e+00 8.450000e+02]\n",
      " [1.350000e+01 3.120000e+00 2.620000e+00 2.400000e+01 1.230000e+02\n",
      "  1.400000e+00 1.570000e+00 2.200000e-01 1.250000e+00 8.600000e+00\n",
      "  5.900000e-01 1.300000e+00 5.000000e+02]\n",
      " [1.341000e+01 3.840000e+00 2.120000e+00 1.880000e+01 9.000000e+01\n",
      "  2.450000e+00 2.680000e+00 2.700000e-01 1.480000e+00 4.280000e+00\n",
      "  9.100000e-01 3.000000e+00 1.035000e+03]\n",
      " [1.277000e+01 3.430000e+00 1.980000e+00 1.600000e+01 8.000000e+01\n",
      "  1.630000e+00 1.250000e+00 4.300000e-01 8.300000e-01 3.400000e+00\n",
      "  7.000000e-01 2.120000e+00 3.720000e+02]\n",
      " [1.363000e+01 1.810000e+00 2.700000e+00 1.720000e+01 1.120000e+02\n",
      "  2.850000e+00 2.910000e+00 3.000000e-01 1.460000e+00 7.300000e+00\n",
      "  1.280000e+00 2.880000e+00 1.310000e+03]\n",
      " [1.252000e+01 2.430000e+00 2.170000e+00 2.100000e+01 8.800000e+01\n",
      "  2.550000e+00 2.270000e+00 2.600000e-01 1.220000e+00 2.000000e+00\n",
      "  9.000000e-01 2.780000e+00 3.250000e+02]\n",
      " [1.141000e+01 7.400000e-01 2.500000e+00 2.100000e+01 8.800000e+01\n",
      "  2.480000e+00 2.010000e+00 4.200000e-01 1.440000e+00 3.080000e+00\n",
      "  1.100000e+00 2.310000e+00 4.340000e+02]\n",
      " [1.208000e+01 1.130000e+00 2.510000e+00 2.400000e+01 7.800000e+01\n",
      "  2.000000e+00 1.580000e+00 4.000000e-01 1.400000e+00 2.200000e+00\n",
      "  1.310000e+00 2.720000e+00 6.300000e+02]\n",
      " [1.386000e+01 1.350000e+00 2.270000e+00 1.600000e+01 9.800000e+01\n",
      "  2.980000e+00 3.150000e+00 2.200000e-01 1.850000e+00 7.220000e+00\n",
      "  1.010000e+00 3.550000e+00 1.045000e+03]\n",
      " [1.208000e+01 1.390000e+00 2.500000e+00 2.250000e+01 8.400000e+01\n",
      "  2.560000e+00 2.290000e+00 4.300000e-01 1.040000e+00 2.900000e+00\n",
      "  9.300000e-01 3.190000e+00 3.850000e+02]\n",
      " [1.419000e+01 1.590000e+00 2.480000e+00 1.650000e+01 1.080000e+02\n",
      "  3.300000e+00 3.930000e+00 3.200000e-01 1.860000e+00 8.700000e+00\n",
      "  1.230000e+00 2.820000e+00 1.680000e+03]\n",
      " [1.311000e+01 1.010000e+00 1.700000e+00 1.500000e+01 7.800000e+01\n",
      "  2.980000e+00 3.180000e+00 2.600000e-01 2.280000e+00 5.300000e+00\n",
      "  1.120000e+00 3.180000e+00 5.020000e+02]\n",
      " [1.233000e+01 1.100000e+00 2.280000e+00 1.600000e+01 1.010000e+02\n",
      "  2.050000e+00 1.090000e+00 6.300000e-01 4.100000e-01 3.270000e+00\n",
      "  1.250000e+00 1.670000e+00 6.800000e+02]\n",
      " [1.340000e+01 4.600000e+00 2.860000e+00 2.500000e+01 1.120000e+02\n",
      "  1.980000e+00 9.600000e-01 2.700000e-01 1.110000e+00 8.500000e+00\n",
      "  6.700000e-01 1.920000e+00 6.300000e+02]\n",
      " [1.277000e+01 2.390000e+00 2.280000e+00 1.950000e+01 8.600000e+01\n",
      "  1.390000e+00 5.100000e-01 4.800000e-01 6.400000e-01 9.899999e+00\n",
      "  5.700000e-01 1.630000e+00 4.700000e+02]\n",
      " [1.378000e+01 2.760000e+00 2.300000e+00 2.200000e+01 9.000000e+01\n",
      "  1.350000e+00 6.800000e-01 4.100000e-01 1.030000e+00 9.580000e+00\n",
      "  7.000000e-01 1.680000e+00 6.150000e+02]\n",
      " [1.242000e+01 1.610000e+00 2.190000e+00 2.250000e+01 1.080000e+02\n",
      "  2.000000e+00 2.090000e+00 3.400000e-01 1.610000e+00 2.060000e+00\n",
      "  1.060000e+00 2.960000e+00 3.450000e+02]\n",
      " [1.237000e+01 1.210000e+00 2.560000e+00 1.810000e+01 9.800000e+01\n",
      "  2.420000e+00 2.650000e+00 3.700000e-01 2.080000e+00 4.600000e+00\n",
      "  1.190000e+00 2.300000e+00 6.780000e+02]\n",
      " [1.208000e+01 1.830000e+00 2.320000e+00 1.850000e+01 8.100000e+01\n",
      "  1.600000e+00 1.500000e+00 5.200000e-01 1.640000e+00 2.400000e+00\n",
      "  1.080000e+00 2.270000e+00 4.800000e+02]\n",
      " [1.356000e+01 1.730000e+00 2.460000e+00 2.050000e+01 1.160000e+02\n",
      "  2.960000e+00 2.780000e+00 2.000000e-01 2.450000e+00 6.250000e+00\n",
      "  9.800000e-01 3.030000e+00 1.120000e+03]\n",
      " [1.402000e+01 1.680000e+00 2.210000e+00 1.600000e+01 9.600000e+01\n",
      "  2.650000e+00 2.330000e+00 2.600000e-01 1.980000e+00 4.700000e+00\n",
      "  1.040000e+00 3.590000e+00 1.035000e+03]\n",
      " [1.237000e+01 1.630000e+00 2.300000e+00 2.450000e+01 8.800000e+01\n",
      "  2.220000e+00 2.450000e+00 4.000000e-01 1.900000e+00 2.120000e+00\n",
      "  8.900000e-01 2.780000e+00 3.420000e+02]\n",
      " [1.316000e+01 3.570000e+00 2.150000e+00 2.100000e+01 1.020000e+02\n",
      "  1.500000e+00 5.500000e-01 4.300000e-01 1.300000e+00 4.000000e+00\n",
      "  6.000000e-01 1.680000e+00 8.300000e+02]\n",
      " [1.358000e+01 1.660000e+00 2.360000e+00 1.910000e+01 1.060000e+02\n",
      "  2.860000e+00 3.190000e+00 2.200000e-01 1.950000e+00 6.900000e+00\n",
      "  1.090000e+00 2.880000e+00 1.515000e+03]\n",
      " [1.375000e+01 1.730000e+00 2.410000e+00 1.600000e+01 8.900000e+01\n",
      "  2.600000e+00 2.760000e+00 2.900000e-01 1.810000e+00 5.600000e+00\n",
      "  1.150000e+00 2.900000e+00 1.320000e+03]\n",
      " [1.388000e+01 1.890000e+00 2.590000e+00 1.500000e+01 1.010000e+02\n",
      "  3.250000e+00 3.560000e+00 1.700000e-01 1.700000e+00 5.430000e+00\n",
      "  8.800000e-01 3.560000e+00 1.095000e+03]]\n",
      "\n",
      "\n",
      "[3 3 2 3 1 2 2 2 3 1 2 2 3 1 2 1 1 3 3 2 2 1 2 1 3 2 2 3 1 1 1 3 1 1 2 3 2\n",
      " 1 3 2 1 3 2 2 1 2 1 1 2 1 1 3 2 2 2 1 2 2 2 3 3 1 2 3 3 2 2 1 2 3 3 2 3 2\n",
      " 2 2 1 1 3 1 3 1 1 2 2 1 1 1 2 1 2 3 2 2 2 3 3 2 1 1 2 3 3 1 2 3 3 3 3 2 1\n",
      " 2 1 3 1 1 2 1 1 3 2 1 3 3 1 1 3 3 3 2 2 2 2 2 2 3 1 2 2 1 2 2]\n",
      "\n",
      "\n",
      "[1 1 3 1 2 1 2 3 2 3 1 3 1 2 1 2 2 2 1 2 1 2 2 3 3 3 2 2 2 1 1 2 3 1 1 1]\n",
      "\n",
      "\n"
     ]
    }
   ],
   "source": [
    "from sklearn.model_selection import train_test_split\n",
    "X_train, X_test, y_train, y_test = train_test_split(X, y, test_size = 0.2, random_state = 42)\n",
    "print(X_train)\n",
    "print('\\n')\n",
    "print(X_test)\n",
    "print('\\n')\n",
    "print(y_train)\n",
    "print('\\n')\n",
    "print(y_test)\n",
    "print('\\n')"
   ]
  },
  {
   "cell_type": "markdown",
   "id": "f5a53531-2911-4ba8-94f2-bc279a0142e3",
   "metadata": {},
   "source": [
    "### Feature Scaling"
   ]
  },
  {
   "cell_type": "code",
   "execution_count": 11,
   "id": "e5ea6fd8-6d04-41aa-94df-3412c723b4fc",
   "metadata": {},
   "outputs": [],
   "source": [
    "from sklearn.preprocessing import StandardScaler\n",
    "sc = StandardScaler()\n",
    "X_train = sc.fit_transform(X_train)\n",
    "X_test = sc.transform(X_test)"
   ]
  },
  {
   "cell_type": "markdown",
   "id": "7d2d42d6-4058-465e-a4a9-0166f87c1e97",
   "metadata": {},
   "source": [
    "### Applying PCA"
   ]
  },
  {
   "cell_type": "code",
   "execution_count": 13,
   "id": "eade5e38-a69d-457c-933f-5d60f849155d",
   "metadata": {},
   "outputs": [],
   "source": [
    "from sklearn.decomposition import PCA\n",
    "pca = PCA(n_components = 2)\n",
    "X_train_p = pca.fit_transform(X_train)\n",
    "X_test_p = pca.transform(X_test)"
   ]
  },
  {
   "cell_type": "markdown",
   "id": "08ec86c8-a574-44b4-b054-f298c74ef80d",
   "metadata": {},
   "source": [
    "### Applying Kernel PCA"
   ]
  },
  {
   "cell_type": "code",
   "execution_count": 15,
   "id": "163ca13c-43f0-4e51-a7bf-75913b591aef",
   "metadata": {},
   "outputs": [],
   "source": [
    "from sklearn.decomposition import KernelPCA\n",
    "kpca = KernelPCA(n_components = 2, kernel = 'rbf')\n",
    "X_train_k = kpca.fit_transform(X_train)\n",
    "X_test_k = kpca.transform(X_test)"
   ]
  },
  {
   "cell_type": "markdown",
   "id": "e5d4ed71-6458-4f36-a3ff-92c7e20fa1a3",
   "metadata": {},
   "source": [
    "### Training the Logistic Regression with PCA"
   ]
  },
  {
   "cell_type": "code",
   "execution_count": 17,
   "id": "cc10e502-f5e8-4d57-ba95-a6f216048b94",
   "metadata": {},
   "outputs": [
    {
     "data": {
      "text/html": [
       "<style>#sk-container-id-1 {color: black;background-color: white;}#sk-container-id-1 pre{padding: 0;}#sk-container-id-1 div.sk-toggleable {background-color: white;}#sk-container-id-1 label.sk-toggleable__label {cursor: pointer;display: block;width: 100%;margin-bottom: 0;padding: 0.3em;box-sizing: border-box;text-align: center;}#sk-container-id-1 label.sk-toggleable__label-arrow:before {content: \"▸\";float: left;margin-right: 0.25em;color: #696969;}#sk-container-id-1 label.sk-toggleable__label-arrow:hover:before {color: black;}#sk-container-id-1 div.sk-estimator:hover label.sk-toggleable__label-arrow:before {color: black;}#sk-container-id-1 div.sk-toggleable__content {max-height: 0;max-width: 0;overflow: hidden;text-align: left;background-color: #f0f8ff;}#sk-container-id-1 div.sk-toggleable__content pre {margin: 0.2em;color: black;border-radius: 0.25em;background-color: #f0f8ff;}#sk-container-id-1 input.sk-toggleable__control:checked~div.sk-toggleable__content {max-height: 200px;max-width: 100%;overflow: auto;}#sk-container-id-1 input.sk-toggleable__control:checked~label.sk-toggleable__label-arrow:before {content: \"▾\";}#sk-container-id-1 div.sk-estimator input.sk-toggleable__control:checked~label.sk-toggleable__label {background-color: #d4ebff;}#sk-container-id-1 div.sk-label input.sk-toggleable__control:checked~label.sk-toggleable__label {background-color: #d4ebff;}#sk-container-id-1 input.sk-hidden--visually {border: 0;clip: rect(1px 1px 1px 1px);clip: rect(1px, 1px, 1px, 1px);height: 1px;margin: -1px;overflow: hidden;padding: 0;position: absolute;width: 1px;}#sk-container-id-1 div.sk-estimator {font-family: monospace;background-color: #f0f8ff;border: 1px dotted black;border-radius: 0.25em;box-sizing: border-box;margin-bottom: 0.5em;}#sk-container-id-1 div.sk-estimator:hover {background-color: #d4ebff;}#sk-container-id-1 div.sk-parallel-item::after {content: \"\";width: 100%;border-bottom: 1px solid gray;flex-grow: 1;}#sk-container-id-1 div.sk-label:hover label.sk-toggleable__label {background-color: #d4ebff;}#sk-container-id-1 div.sk-serial::before {content: \"\";position: absolute;border-left: 1px solid gray;box-sizing: border-box;top: 0;bottom: 0;left: 50%;z-index: 0;}#sk-container-id-1 div.sk-serial {display: flex;flex-direction: column;align-items: center;background-color: white;padding-right: 0.2em;padding-left: 0.2em;position: relative;}#sk-container-id-1 div.sk-item {position: relative;z-index: 1;}#sk-container-id-1 div.sk-parallel {display: flex;align-items: stretch;justify-content: center;background-color: white;position: relative;}#sk-container-id-1 div.sk-item::before, #sk-container-id-1 div.sk-parallel-item::before {content: \"\";position: absolute;border-left: 1px solid gray;box-sizing: border-box;top: 0;bottom: 0;left: 50%;z-index: -1;}#sk-container-id-1 div.sk-parallel-item {display: flex;flex-direction: column;z-index: 1;position: relative;background-color: white;}#sk-container-id-1 div.sk-parallel-item:first-child::after {align-self: flex-end;width: 50%;}#sk-container-id-1 div.sk-parallel-item:last-child::after {align-self: flex-start;width: 50%;}#sk-container-id-1 div.sk-parallel-item:only-child::after {width: 0;}#sk-container-id-1 div.sk-dashed-wrapped {border: 1px dashed gray;margin: 0 0.4em 0.5em 0.4em;box-sizing: border-box;padding-bottom: 0.4em;background-color: white;}#sk-container-id-1 div.sk-label label {font-family: monospace;font-weight: bold;display: inline-block;line-height: 1.2em;}#sk-container-id-1 div.sk-label-container {text-align: center;}#sk-container-id-1 div.sk-container {/* jupyter's `normalize.less` sets `[hidden] { display: none; }` but bootstrap.min.css set `[hidden] { display: none !important; }` so we also need the `!important` here to be able to override the default hidden behavior on the sphinx rendered scikit-learn.org. See: https://github.com/scikit-learn/scikit-learn/issues/21755 */display: inline-block !important;position: relative;}#sk-container-id-1 div.sk-text-repr-fallback {display: none;}</style><div id=\"sk-container-id-1\" class=\"sk-top-container\"><div class=\"sk-text-repr-fallback\"><pre>LogisticRegression(random_state=0)</pre><b>In a Jupyter environment, please rerun this cell to show the HTML representation or trust the notebook. <br />On GitHub, the HTML representation is unable to render, please try loading this page with nbviewer.org.</b></div><div class=\"sk-container\" hidden><div class=\"sk-item\"><div class=\"sk-estimator sk-toggleable\"><input class=\"sk-toggleable__control sk-hidden--visually\" id=\"sk-estimator-id-1\" type=\"checkbox\" checked><label for=\"sk-estimator-id-1\" class=\"sk-toggleable__label sk-toggleable__label-arrow\">LogisticRegression</label><div class=\"sk-toggleable__content\"><pre>LogisticRegression(random_state=0)</pre></div></div></div></div></div>"
      ],
      "text/plain": [
       "LogisticRegression(random_state=0)"
      ]
     },
     "execution_count": 17,
     "metadata": {},
     "output_type": "execute_result"
    }
   ],
   "source": [
    "from sklearn.linear_model import LogisticRegression\n",
    "classifier_p = LogisticRegression(random_state = 0)\n",
    "y_train_p = y_train.copy()\n",
    "classifier_p.fit(X_train_p, y_train_p)"
   ]
  },
  {
   "cell_type": "markdown",
   "id": "d9910272-ca5d-47d2-bef9-6571934d4086",
   "metadata": {},
   "source": [
    "### Training the Logistic Regression with Kernel PCA"
   ]
  },
  {
   "cell_type": "code",
   "execution_count": 19,
   "id": "4fb22c53-0647-40e6-9696-ca7f5f4d5d88",
   "metadata": {},
   "outputs": [
    {
     "data": {
      "text/html": [
       "<style>#sk-container-id-2 {color: black;background-color: white;}#sk-container-id-2 pre{padding: 0;}#sk-container-id-2 div.sk-toggleable {background-color: white;}#sk-container-id-2 label.sk-toggleable__label {cursor: pointer;display: block;width: 100%;margin-bottom: 0;padding: 0.3em;box-sizing: border-box;text-align: center;}#sk-container-id-2 label.sk-toggleable__label-arrow:before {content: \"▸\";float: left;margin-right: 0.25em;color: #696969;}#sk-container-id-2 label.sk-toggleable__label-arrow:hover:before {color: black;}#sk-container-id-2 div.sk-estimator:hover label.sk-toggleable__label-arrow:before {color: black;}#sk-container-id-2 div.sk-toggleable__content {max-height: 0;max-width: 0;overflow: hidden;text-align: left;background-color: #f0f8ff;}#sk-container-id-2 div.sk-toggleable__content pre {margin: 0.2em;color: black;border-radius: 0.25em;background-color: #f0f8ff;}#sk-container-id-2 input.sk-toggleable__control:checked~div.sk-toggleable__content {max-height: 200px;max-width: 100%;overflow: auto;}#sk-container-id-2 input.sk-toggleable__control:checked~label.sk-toggleable__label-arrow:before {content: \"▾\";}#sk-container-id-2 div.sk-estimator input.sk-toggleable__control:checked~label.sk-toggleable__label {background-color: #d4ebff;}#sk-container-id-2 div.sk-label input.sk-toggleable__control:checked~label.sk-toggleable__label {background-color: #d4ebff;}#sk-container-id-2 input.sk-hidden--visually {border: 0;clip: rect(1px 1px 1px 1px);clip: rect(1px, 1px, 1px, 1px);height: 1px;margin: -1px;overflow: hidden;padding: 0;position: absolute;width: 1px;}#sk-container-id-2 div.sk-estimator {font-family: monospace;background-color: #f0f8ff;border: 1px dotted black;border-radius: 0.25em;box-sizing: border-box;margin-bottom: 0.5em;}#sk-container-id-2 div.sk-estimator:hover {background-color: #d4ebff;}#sk-container-id-2 div.sk-parallel-item::after {content: \"\";width: 100%;border-bottom: 1px solid gray;flex-grow: 1;}#sk-container-id-2 div.sk-label:hover label.sk-toggleable__label {background-color: #d4ebff;}#sk-container-id-2 div.sk-serial::before {content: \"\";position: absolute;border-left: 1px solid gray;box-sizing: border-box;top: 0;bottom: 0;left: 50%;z-index: 0;}#sk-container-id-2 div.sk-serial {display: flex;flex-direction: column;align-items: center;background-color: white;padding-right: 0.2em;padding-left: 0.2em;position: relative;}#sk-container-id-2 div.sk-item {position: relative;z-index: 1;}#sk-container-id-2 div.sk-parallel {display: flex;align-items: stretch;justify-content: center;background-color: white;position: relative;}#sk-container-id-2 div.sk-item::before, #sk-container-id-2 div.sk-parallel-item::before {content: \"\";position: absolute;border-left: 1px solid gray;box-sizing: border-box;top: 0;bottom: 0;left: 50%;z-index: -1;}#sk-container-id-2 div.sk-parallel-item {display: flex;flex-direction: column;z-index: 1;position: relative;background-color: white;}#sk-container-id-2 div.sk-parallel-item:first-child::after {align-self: flex-end;width: 50%;}#sk-container-id-2 div.sk-parallel-item:last-child::after {align-self: flex-start;width: 50%;}#sk-container-id-2 div.sk-parallel-item:only-child::after {width: 0;}#sk-container-id-2 div.sk-dashed-wrapped {border: 1px dashed gray;margin: 0 0.4em 0.5em 0.4em;box-sizing: border-box;padding-bottom: 0.4em;background-color: white;}#sk-container-id-2 div.sk-label label {font-family: monospace;font-weight: bold;display: inline-block;line-height: 1.2em;}#sk-container-id-2 div.sk-label-container {text-align: center;}#sk-container-id-2 div.sk-container {/* jupyter's `normalize.less` sets `[hidden] { display: none; }` but bootstrap.min.css set `[hidden] { display: none !important; }` so we also need the `!important` here to be able to override the default hidden behavior on the sphinx rendered scikit-learn.org. See: https://github.com/scikit-learn/scikit-learn/issues/21755 */display: inline-block !important;position: relative;}#sk-container-id-2 div.sk-text-repr-fallback {display: none;}</style><div id=\"sk-container-id-2\" class=\"sk-top-container\"><div class=\"sk-text-repr-fallback\"><pre>LogisticRegression(random_state=0)</pre><b>In a Jupyter environment, please rerun this cell to show the HTML representation or trust the notebook. <br />On GitHub, the HTML representation is unable to render, please try loading this page with nbviewer.org.</b></div><div class=\"sk-container\" hidden><div class=\"sk-item\"><div class=\"sk-estimator sk-toggleable\"><input class=\"sk-toggleable__control sk-hidden--visually\" id=\"sk-estimator-id-2\" type=\"checkbox\" checked><label for=\"sk-estimator-id-2\" class=\"sk-toggleable__label sk-toggleable__label-arrow\">LogisticRegression</label><div class=\"sk-toggleable__content\"><pre>LogisticRegression(random_state=0)</pre></div></div></div></div></div>"
      ],
      "text/plain": [
       "LogisticRegression(random_state=0)"
      ]
     },
     "execution_count": 19,
     "metadata": {},
     "output_type": "execute_result"
    }
   ],
   "source": [
    "from sklearn.linear_model import LogisticRegression\n",
    "classifier_k = LogisticRegression(random_state = 0)\n",
    "y_train_k = y_train.copy()\n",
    "classifier_k.fit(X_train_k, y_train_k)"
   ]
  },
  {
   "cell_type": "markdown",
   "id": "59a19e2f-e1c8-4ac0-b377-1612f9bda9e7",
   "metadata": {},
   "source": [
    "### Making the Confusion Matrix for PCA"
   ]
  },
  {
   "cell_type": "code",
   "execution_count": 21,
   "id": "c5890f69-90bc-45d2-8cfd-f9f06a663192",
   "metadata": {},
   "outputs": [
    {
     "name": "stdout",
     "output_type": "stream",
     "text": [
      "Confusion Matrix:\n",
      " [[14  0  0]\n",
      " [ 0 14  0]\n",
      " [ 0  0  8]]\n",
      "Accuracy: 1.0\n",
      "Precision (macro): 1.0\n",
      "Recall (macro): 1.0\n",
      "F1 Score (macro): 1.0\n"
     ]
    }
   ],
   "source": [
    "from sklearn.metrics import confusion_matrix, accuracy_score, f1_score, recall_score, precision_score\n",
    "y_pred_p = classifier_p.predict(X_test_p)\n",
    "cm_p = confusion_matrix(y_test, y_pred_p)\n",
    "print(\"Confusion Matrix:\\n\", cm_p)\n",
    "accuracy_p = accuracy_score(y_test, y_pred_p)\n",
    "print(\"Accuracy:\", accuracy_p)\n",
    "precision_p = precision_score(y_test, y_pred_p, average='macro')\n",
    "print(\"Precision (macro):\", precision_p)\n",
    "recall_p = recall_score(y_test, y_pred_p, average='macro')\n",
    "print(\"Recall (macro):\", recall_p)\n",
    "f1_p = f1_score(y_test, y_pred_p, average='macro')\n",
    "print(\"F1 Score (macro):\", f1_p)"
   ]
  },
  {
   "cell_type": "markdown",
   "id": "40227c58-ad0a-48d3-a699-bf25f8363b7d",
   "metadata": {},
   "source": [
    "### Making the Confusion Matrix for Kernel PCA"
   ]
  },
  {
   "cell_type": "code",
   "execution_count": 23,
   "id": "7dc467f2-aacb-40e8-9403-1c51c64ca55b",
   "metadata": {},
   "outputs": [
    {
     "name": "stdout",
     "output_type": "stream",
     "text": [
      "Confusion Matrix:\n",
      " [[14  0  0]\n",
      " [ 0 14  0]\n",
      " [ 0  0  8]]\n",
      "Accuracy: 1.0\n",
      "Precision (macro): 1.0\n",
      "Recall (macro): 1.0\n",
      "F1 Score (macro): 1.0\n"
     ]
    }
   ],
   "source": [
    "from sklearn.metrics import confusion_matrix, accuracy_score, f1_score, recall_score, precision_score\n",
    "y_pred_k = classifier_k.predict(X_test_k)\n",
    "cm_k = confusion_matrix(y_test, y_pred_k)\n",
    "print(\"Confusion Matrix:\\n\", cm_k)\n",
    "accuracy_k = accuracy_score(y_test, y_pred_k)\n",
    "print(\"Accuracy:\", accuracy_k)\n",
    "precision_k = precision_score(y_test, y_pred_k, average='macro')\n",
    "print(\"Precision (macro):\", precision_k)\n",
    "recall_k = recall_score(y_test, y_pred_k, average='macro')\n",
    "print(\"Recall (macro):\", recall_k)\n",
    "f1_k = f1_score(y_test, y_pred_k, average='macro')\n",
    "print(\"F1 Score (macro):\", f1_k)"
   ]
  },
  {
   "cell_type": "markdown",
   "id": "21c98b33-3300-4b6f-b57d-4d81af272ad7",
   "metadata": {},
   "source": [
    "### Visualising the Training set results for PCA"
   ]
  },
  {
   "cell_type": "code",
   "execution_count": 25,
   "id": "ae20be8a-e7c1-4783-bc01-f63614332a8a",
   "metadata": {},
   "outputs": [
    {
     "data": {
      "image/png": "[encoded data removed]",
      "text/plain": [
       "<Figure size 640x480 with 1 Axes>"
      ]
     },
     "metadata": {},
     "output_type": "display_data"
    }
   ],
   "source": [
    "from matplotlib.colors import ListedColormap\n",
    "X_set, y_set = X_train_p, y_train\n",
    "\n",
    "# Create grid\n",
    "X1, X2 = np.meshgrid(\n",
    "    np.arange(start=X_set[:, 0].min() - 1, stop=X_set[:, 0].max() + 1, step=0.01),\n",
    "    np.arange(start=X_set[:, 1].min() - 1, stop=X_set[:, 1].max() + 1, step=0.01)\n",
    ")\n",
    "\n",
    "# Predict over grid\n",
    "Z = classifier_p.predict(np.array([X1.ravel(), X2.ravel()]).T).reshape(X1.shape)\n",
    "\n",
    "# Plot decision boundary\n",
    "plt.contourf(X1, X2, Z, alpha=0.75, cmap=ListedColormap(['red', 'green', 'blue']))\n",
    "plt.xlim(X1.min(), X1.max())\n",
    "plt.ylim(X2.min(), X2.max())\n",
    "\n",
    "# Plot actual data points without warning\n",
    "colors = ['red', 'green', 'blue']\n",
    "for i, j in enumerate(np.unique(y_set)):\n",
    "    plt.scatter(X_set[y_set == j, 0], X_set[y_set == j, 1],\n",
    "                color=colors[i], label=j)\n",
    "\n",
    "# Final plot labels\n",
    "plt.title('Logistic Regression (Training set)')\n",
    "plt.xlabel('PC1')\n",
    "plt.ylabel('PC2')\n",
    "plt.legend()\n",
    "plt.show()\n"
   ]
  },
  {
   "cell_type": "markdown",
   "id": "2e2ca580-4020-4f81-8c34-101f4c9a1035",
   "metadata": {},
   "source": [
    "### Visualising the Training set results for  Kernel PCA"
   ]
  },
  {
   "cell_type": "code",
   "execution_count": 27,
   "id": "f4844fec-4ed4-48f4-a6c8-d6633f5025c4",
   "metadata": {},
   "outputs": [
    {
     "data": {
      "image/png": "[encoded data removed]",
      "text/plain": [
       "<Figure size 640x480 with 1 Axes>"
      ]
     },
     "metadata": {},
     "output_type": "display_data"
    }
   ],
   "source": [
    "from matplotlib.colors import ListedColormap\n",
    "\n",
    "X_set, y_set = X_train_k, y_train_k\n",
    "\n",
    "X1, X2 = np.meshgrid(\n",
    "    np.arange(start=X_set[:, 0].min() - 1, stop=X_set[:, 0].max() + 1, step=0.01),\n",
    "    np.arange(start=X_set[:, 1].min() - 1, stop=X_set[:, 1].max() + 1, step=0.01)\n",
    ")\n",
    "\n",
    "Z = classifier_k.predict(np.array([X1.ravel(), X2.ravel()]).T).reshape(X1.shape)\n",
    "\n",
    "plt.contourf(X1, X2, Z, alpha=0.75, cmap=ListedColormap(['red', 'green', 'blue']))\n",
    "plt.xlim(X1.min(), X1.max())\n",
    "plt.ylim(X2.min(), X2.max())\n",
    "\n",
    "for i, j in enumerate(np.unique(y_set)):\n",
    "    plt.scatter(X_set[y_set == j, 0], X_set[y_set == j, 1],\n",
    "                c=['red', 'green', 'blue'][i], label=j)\n",
    "\n",
    "plt.title('Logistic Regression using PCA (Training set)')\n",
    "plt.xlabel('PC1')\n",
    "plt.ylabel('PC2')\n",
    "plt.legend()\n",
    "plt.show()"
   ]
  },
  {
   "cell_type": "markdown",
   "id": "2555960e-4b45-4bc2-83a5-a8167604a8ba",
   "metadata": {},
   "source": [
    "### Visualising the Test set results with PCA"
   ]
  },
  {
   "cell_type": "code",
   "execution_count": 29,
   "id": "90c13d41-5a04-4348-9e3e-34afcd185c94",
   "metadata": {},
   "outputs": [
    {
     "data": {
      "image/png": "[encoded data removed]",
      "text/plain": [
       "<Figure size 640x480 with 1 Axes>"
      ]
     },
     "metadata": {},
     "output_type": "display_data"
    }
   ],
   "source": [
    "from matplotlib.colors import ListedColormap\n",
    "X_set, y_set = X_test_p, y_test  \n",
    "\n",
    "X1, X2 = np.meshgrid(\n",
    "    np.arange(start=X_set[:, 0].min() - 1, stop=X_set[:, 0].max() + 1, step=0.01),\n",
    "    np.arange(start=X_set[:, 1].min() - 1, stop=X_set[:, 1].max() + 1, step=0.01)\n",
    ")\n",
    "\n",
    "Z = classifier_p.predict(np.array([X1.ravel(), X2.ravel()]).T).reshape(X1.shape)\n",
    "\n",
    "plt.contourf(X1, X2, Z, alpha=0.75, cmap=ListedColormap(['red', 'green', 'blue']))\n",
    "plt.xlim(X1.min(), X1.max())\n",
    "plt.ylim(X2.min(), X2.max())\n",
    "\n",
    "colors = ['red', 'green', 'blue']\n",
    "for i, j in enumerate(np.unique(y_set)):\n",
    "    plt.scatter(X_set[y_set == j, 0], X_set[y_set == j, 1],\n",
    "                color=colors[i], label=j)\n",
    "\n",
    "# Final plot labels\n",
    "plt.title('Logistic Regression (Test set)')  \n",
    "plt.xlabel('PC1')\n",
    "plt.ylabel('PC2')\n",
    "plt.legend()\n",
    "plt.show()"
   ]
  },
  {
   "cell_type": "markdown",
   "id": "08bbc770-1cd4-4468-8b86-d3170dd29376",
   "metadata": {},
   "source": [
    "### Visualising the Test set results with Kernal PCA"
   ]
  },
  {
   "cell_type": "code",
   "execution_count": 31,
   "id": "07e42892-033d-4aa9-9f3e-0b9bf5528c8f",
   "metadata": {},
   "outputs": [
    {
     "data": {
      "image/png": "[encoded data removed]",
      "text/plain": [
       "<Figure size 640x480 with 1 Axes>"
      ]
     },
     "metadata": {},
     "output_type": "display_data"
    }
   ],
   "source": [
    "from matplotlib.colors import ListedColormap\n",
    "X_set, y_set = X_test_k, y_test  \n",
    "\n",
    "X1, X2 = np.meshgrid(\n",
    "    np.arange(start=X_set[:, 0].min() - 1, stop=X_set[:, 0].max() + 1, step=0.01),\n",
    "    np.arange(start=X_set[:, 1].min() - 1, stop=X_set[:, 1].max() + 1, step=0.01)\n",
    ")\n",
    "\n",
    "Z = classifier_k.predict(np.array([X1.ravel(), X2.ravel()]).T).reshape(X1.shape)\n",
    "\n",
    "plt.contourf(X1, X2, Z, alpha=0.75, cmap=ListedColormap(['red', 'green', 'blue']))\n",
    "plt.xlim(X1.min(), X1.max())\n",
    "plt.ylim(X2.min(), X2.max())\n",
    "\n",
    "colors = ['red', 'green', 'blue']\n",
    "for i, j in enumerate(np.unique(y_set)):\n",
    "    plt.scatter(X_set[y_set == j, 0], X_set[y_set == j, 1],\n",
    "                color=colors[i], label=j)\n",
    "\n",
    "plt.title('Logistic Regression (Test set)')\n",
    "plt.xlabel('KPC1')\n",
    "plt.ylabel('KPC2')\n",
    "plt.legend()\n",
    "plt.show()"
   ]
  }
 ],
 "metadata": {
  "kernelspec": {
   "display_name": "Python 3 (ipykernel)",
   "language": "python",
   "name": "python3"
  },
  "language_info": {
   "codemirror_mode": {
    "name": "ipython",
    "version": 3
   },
   "file_extension": ".py",
   "mimetype": "text/x-python",
   "name": "python",
   "nbconvert_exporter": "python",
   "pygments_lexer": "ipython3",
   "version": "3.11.7"
  }
 },
 "nbformat": 4,
 "nbformat_minor": 5
}
