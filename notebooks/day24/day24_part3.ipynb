{
 "cells": [
  {
   "cell_type": "markdown",
   "id": "6cf23318",
   "metadata": {},
   "source": [
    "## LDA - Linear Discriminant Analysis"
   ]
  },
  {
   "cell_type": "markdown",
   "id": "f0377897",
   "metadata": {},
   "source": [
    "### **What is LDA (Linear Discriminant Analysis)?**\n",
    "\n",
    "**Linear Discriminant Analysis (LDA)** is a **supervised** dimensionality reduction technique.\n",
    "It is used to project data onto a lower-dimensional space while **maximizing class separability**.\n",
    "\n",
    "While **PCA** focuses on preserving **overall variance** in the data (without considering labels), **LDA** focuses on **maximizing the distance between classes** (using label information).\n",
    "\n",
    "---\n",
    "\n",
    "### **Goals of LDA:**\n",
    "\n",
    "* Reduce dimensionality.\n",
    "* Retain class-discriminatory information.\n",
    "* Improve classification performance by transforming data into a better space.\n",
    "\n",
    "---\n",
    "\n",
    "### **How LDA Works (Step-by-Step):**\n",
    "\n",
    "1. **Compute the mean of each class.**\n",
    "\n",
    "2. **Compute the overall mean** of all data.\n",
    "\n",
    "3. **Compute the Within-Class Scatter Matrix (SW):**\n",
    "\n",
    "   * Measures how data points vary **within** each class.\n",
    "\n",
    "4. **Compute the Between-Class Scatter Matrix (SB):**\n",
    "\n",
    "   * Measures how class means differ from the overall mean.\n",
    "\n",
    "5. **Compute the matrix:**\n",
    "\n",
    "   * `S = SW⁻¹ * SB`\n",
    "\n",
    "6. **Find eigenvectors and eigenvalues** of matrix `S`.\n",
    "\n",
    "7. **Sort eigenvectors** by decreasing eigenvalues and select the top `k` components.\n",
    "\n",
    "8. **Project data** onto the new lower-dimensional space formed by these `k` discriminant components.\n",
    "\n",
    "---\n",
    "\n",
    "### **Key Differences Between LDA and PCA:**\n",
    "\n",
    "| Aspect               | PCA                       | LDA                                |\n",
    "| -------------------- | ------------------------- | ---------------------------------- |\n",
    "| Type                 | Unsupervised              | Supervised                         |\n",
    "| Uses class labels    | No                        | Yes                                |\n",
    "| Objective            | Maximize variance         | Maximize class separation          |\n",
    "| Components available | At most equal to features | At most `n_classes - 1` components |\n",
    "| Useful when          | Data is unlabeled         | Classification problem with labels |\n",
    "\n",
    "---\n",
    "\n",
    "### **When to Use LDA:**\n",
    "\n",
    "* You are working on a **classification problem**.\n",
    "* You want to **reduce dimensionality** while keeping class separability.\n",
    "* You have **more features than samples** or highly correlated features.\n",
    "\n",
    "---\n",
    "\n",
    "### **Important Notes:**\n",
    "\n",
    "* LDA assumes **normal distribution** of the features and **equal covariance** for all classes.\n",
    "* It is **not ideal** when these assumptions are strongly violated.\n",
    "* LDA can be used both for **dimensionality reduction** and as a **classifier** itself."
   ]
  },
  {
   "cell_type": "markdown",
   "id": "3448985b-fc1c-4104-b403-21de777e56c2",
   "metadata": {},
   "source": [
    "### Importing the libraries"
   ]
  },
  {
   "cell_type": "code",
   "execution_count": 4,
   "id": "2b57711c-699f-4383-bc3a-216a919244c6",
   "metadata": {},
   "outputs": [],
   "source": [
    "import numpy as np\n",
    "import matplotlib.pyplot as plt\n",
    "import pandas as pd"
   ]
  },
  {
   "cell_type": "markdown",
   "id": "c93c0800-d0ba-4ce6-8fb3-2fe6a7682ab2",
   "metadata": {},
   "source": [
    "### Importing the dataset"
   ]
  },
  {
   "cell_type": "code",
   "execution_count": 6,
   "id": "3f536dd0-3331-4708-97da-b86ca7afc2d1",
   "metadata": {},
   "outputs": [
    {
     "name": "stdout",
     "output_type": "stream",
     "text": [
      "     Alcohol  Malic_Acid   Ash  Ash_Alcanity  Magnesium  Total_Phenols  \\\n",
      "156    13.84        4.12  2.38          19.5         89           1.80   \n",
      "6      14.39        1.87  2.45          14.6         96           2.50   \n",
      "166    13.45        3.70  2.60          23.0        111           1.70   \n",
      "122    12.42        4.43  2.73          26.5        102           2.20   \n",
      "99     12.29        3.17  2.21          18.0         88           2.85   \n",
      "\n",
      "     Flavanoids  Nonflavanoid_Phenols  Proanthocyanins  Color_Intensity   Hue  \\\n",
      "156        0.83                  0.48             1.56             9.01  0.57   \n",
      "6          2.52                  0.30             1.98             5.25  1.02   \n",
      "166        0.92                  0.43             1.46            10.68  0.85   \n",
      "122        2.13                  0.43             1.71             2.08  0.92   \n",
      "99         2.99                  0.45             2.81             2.30  1.42   \n",
      "\n",
      "     OD280  Proline  Customer_Segment  \n",
      "156   1.64      480                 3  \n",
      "6     3.58     1290                 1  \n",
      "166   1.56      695                 3  \n",
      "122   3.12      365                 2  \n",
      "99    2.83      406                 2  \n"
     ]
    }
   ],
   "source": [
    "df = pd.read_csv('../../datasets/Wine.csv')\n",
    "print(df.sample(5))"
   ]
  },
  {
   "cell_type": "code",
   "execution_count": 7,
   "id": "0edbf241-f2c0-4062-aa97-6208a593b694",
   "metadata": {},
   "outputs": [
    {
     "name": "stdout",
     "output_type": "stream",
     "text": [
      "[[1.423e+01 1.710e+00 2.430e+00 ... 1.040e+00 3.920e+00 1.065e+03]\n",
      " [1.320e+01 1.780e+00 2.140e+00 ... 1.050e+00 3.400e+00 1.050e+03]\n",
      " [1.316e+01 2.360e+00 2.670e+00 ... 1.030e+00 3.170e+00 1.185e+03]\n",
      " ...\n",
      " [1.327e+01 4.280e+00 2.260e+00 ... 5.900e-01 1.560e+00 8.350e+02]\n",
      " [1.317e+01 2.590e+00 2.370e+00 ... 6.000e-01 1.620e+00 8.400e+02]\n",
      " [1.413e+01 4.100e+00 2.740e+00 ... 6.100e-01 1.600e+00 5.600e+02]]\n",
      "\n",
      "\n",
      "[1 1 1 1 1 1 1 1 1 1 1 1 1 1 1 1 1 1 1 1 1 1 1 1 1 1 1 1 1 1 1 1 1 1 1 1 1\n",
      " 1 1 1 1 1 1 1 1 1 1 1 1 1 1 1 1 1 1 1 1 1 1 2 2 2 2 2 2 2 2 2 2 2 2 2 2 2\n",
      " 2 2 2 2 2 2 2 2 2 2 2 2 2 2 2 2 2 2 2 2 2 2 2 2 2 2 2 2 2 2 2 2 2 2 2 2 2\n",
      " 2 2 2 2 2 2 2 2 2 2 2 2 2 2 2 2 2 2 2 3 3 3 3 3 3 3 3 3 3 3 3 3 3 3 3 3 3\n",
      " 3 3 3 3 3 3 3 3 3 3 3 3 3 3 3 3 3 3 3 3 3 3 3 3 3 3 3 3 3 3]\n"
     ]
    }
   ],
   "source": [
    "X = df.iloc[:, :-1].values\n",
    "y = df.iloc[:, -1].values\n",
    "print(X)\n",
    "print('\\n')\n",
    "print(y)"
   ]
  },
  {
   "cell_type": "markdown",
   "id": "900bcf8e-d8c0-44a4-a2c5-1837af07ee98",
   "metadata": {},
   "source": [
    "### Splitting the dataset into the Training set and Test set"
   ]
  },
  {
   "cell_type": "code",
   "execution_count": 9,
   "id": "c62496ee-56fb-429b-a654-eac8538e295f",
   "metadata": {},
   "outputs": [
    {
     "name": "stdout",
     "output_type": "stream",
     "text": [
      "[[1.434e+01 1.680e+00 2.700e+00 ... 5.700e-01 1.960e+00 6.600e+02]\n",
      " [1.253e+01 5.510e+00 2.640e+00 ... 8.200e-01 1.690e+00 5.150e+02]\n",
      " [1.237e+01 1.070e+00 2.100e+00 ... 1.040e+00 2.770e+00 6.600e+02]\n",
      " ...\n",
      " [1.438e+01 1.870e+00 2.380e+00 ... 1.200e+00 3.000e+00 1.547e+03]\n",
      " [1.269e+01 1.530e+00 2.260e+00 ... 9.600e-01 2.060e+00 4.950e+02]\n",
      " [1.234e+01 2.450e+00 2.460e+00 ... 8.000e-01 3.380e+00 4.380e+02]]\n",
      "\n",
      "\n",
      "[[1.364000e+01 3.100000e+00 2.560000e+00 1.520000e+01 1.160000e+02\n",
      "  2.700000e+00 3.030000e+00 1.700000e-01 1.660000e+00 5.100000e+00\n",
      "  9.600000e-01 3.360000e+00 8.450000e+02]\n",
      " [1.421000e+01 4.040000e+00 2.440000e+00 1.890000e+01 1.110000e+02\n",
      "  2.850000e+00 2.650000e+00 3.000000e-01 1.250000e+00 5.240000e+00\n",
      "  8.700000e-01 3.330000e+00 1.080000e+03]\n",
      " [1.293000e+01 2.810000e+00 2.700000e+00 2.100000e+01 9.600000e+01\n",
      "  1.540000e+00 5.000000e-01 5.300000e-01 7.500000e-01 4.600000e+00\n",
      "  7.700000e-01 2.310000e+00 6.000000e+02]\n",
      " [1.373000e+01 1.500000e+00 2.700000e+00 2.250000e+01 1.010000e+02\n",
      "  3.000000e+00 3.250000e+00 2.900000e-01 2.380000e+00 5.700000e+00\n",
      "  1.190000e+00 2.710000e+00 1.285000e+03]\n",
      " [1.237000e+01 1.170000e+00 1.920000e+00 1.960000e+01 7.800000e+01\n",
      "  2.110000e+00 2.000000e+00 2.700000e-01 1.040000e+00 4.680000e+00\n",
      "  1.120000e+00 3.480000e+00 5.100000e+02]\n",
      " [1.430000e+01 1.920000e+00 2.720000e+00 2.000000e+01 1.200000e+02\n",
      "  2.800000e+00 3.140000e+00 3.300000e-01 1.970000e+00 6.200000e+00\n",
      "  1.070000e+00 2.650000e+00 1.280000e+03]\n",
      " [1.200000e+01 3.430000e+00 2.000000e+00 1.900000e+01 8.700000e+01\n",
      "  2.000000e+00 1.640000e+00 3.700000e-01 1.870000e+00 1.280000e+00\n",
      "  9.300000e-01 3.050000e+00 5.640000e+02]\n",
      " [1.340000e+01 3.910000e+00 2.480000e+00 2.300000e+01 1.020000e+02\n",
      "  1.800000e+00 7.500000e-01 4.300000e-01 1.410000e+00 7.300000e+00\n",
      "  7.000000e-01 1.560000e+00 7.500000e+02]\n",
      " [1.161000e+01 1.350000e+00 2.700000e+00 2.000000e+01 9.400000e+01\n",
      "  2.740000e+00 2.920000e+00 2.900000e-01 2.490000e+00 2.650000e+00\n",
      "  9.600000e-01 3.260000e+00 6.800000e+02]\n",
      " [1.336000e+01 2.560000e+00 2.350000e+00 2.000000e+01 8.900000e+01\n",
      "  1.400000e+00 5.000000e-01 3.700000e-01 6.400000e-01 5.600000e+00\n",
      "  7.000000e-01 2.470000e+00 7.800000e+02]\n",
      " [1.350000e+01 1.810000e+00 2.610000e+00 2.000000e+01 9.600000e+01\n",
      "  2.530000e+00 2.610000e+00 2.800000e-01 1.660000e+00 3.520000e+00\n",
      "  1.120000e+00 3.820000e+00 8.450000e+02]\n",
      " [1.350000e+01 3.120000e+00 2.620000e+00 2.400000e+01 1.230000e+02\n",
      "  1.400000e+00 1.570000e+00 2.200000e-01 1.250000e+00 8.600000e+00\n",
      "  5.900000e-01 1.300000e+00 5.000000e+02]\n",
      " [1.341000e+01 3.840000e+00 2.120000e+00 1.880000e+01 9.000000e+01\n",
      "  2.450000e+00 2.680000e+00 2.700000e-01 1.480000e+00 4.280000e+00\n",
      "  9.100000e-01 3.000000e+00 1.035000e+03]\n",
      " [1.277000e+01 3.430000e+00 1.980000e+00 1.600000e+01 8.000000e+01\n",
      "  1.630000e+00 1.250000e+00 4.300000e-01 8.300000e-01 3.400000e+00\n",
      "  7.000000e-01 2.120000e+00 3.720000e+02]\n",
      " [1.363000e+01 1.810000e+00 2.700000e+00 1.720000e+01 1.120000e+02\n",
      "  2.850000e+00 2.910000e+00 3.000000e-01 1.460000e+00 7.300000e+00\n",
      "  1.280000e+00 2.880000e+00 1.310000e+03]\n",
      " [1.252000e+01 2.430000e+00 2.170000e+00 2.100000e+01 8.800000e+01\n",
      "  2.550000e+00 2.270000e+00 2.600000e-01 1.220000e+00 2.000000e+00\n",
      "  9.000000e-01 2.780000e+00 3.250000e+02]\n",
      " [1.141000e+01 7.400000e-01 2.500000e+00 2.100000e+01 8.800000e+01\n",
      "  2.480000e+00 2.010000e+00 4.200000e-01 1.440000e+00 3.080000e+00\n",
      "  1.100000e+00 2.310000e+00 4.340000e+02]\n",
      " [1.208000e+01 1.130000e+00 2.510000e+00 2.400000e+01 7.800000e+01\n",
      "  2.000000e+00 1.580000e+00 4.000000e-01 1.400000e+00 2.200000e+00\n",
      "  1.310000e+00 2.720000e+00 6.300000e+02]\n",
      " [1.386000e+01 1.350000e+00 2.270000e+00 1.600000e+01 9.800000e+01\n",
      "  2.980000e+00 3.150000e+00 2.200000e-01 1.850000e+00 7.220000e+00\n",
      "  1.010000e+00 3.550000e+00 1.045000e+03]\n",
      " [1.208000e+01 1.390000e+00 2.500000e+00 2.250000e+01 8.400000e+01\n",
      "  2.560000e+00 2.290000e+00 4.300000e-01 1.040000e+00 2.900000e+00\n",
      "  9.300000e-01 3.190000e+00 3.850000e+02]\n",
      " [1.419000e+01 1.590000e+00 2.480000e+00 1.650000e+01 1.080000e+02\n",
      "  3.300000e+00 3.930000e+00 3.200000e-01 1.860000e+00 8.700000e+00\n",
      "  1.230000e+00 2.820000e+00 1.680000e+03]\n",
      " [1.311000e+01 1.010000e+00 1.700000e+00 1.500000e+01 7.800000e+01\n",
      "  2.980000e+00 3.180000e+00 2.600000e-01 2.280000e+00 5.300000e+00\n",
      "  1.120000e+00 3.180000e+00 5.020000e+02]\n",
      " [1.233000e+01 1.100000e+00 2.280000e+00 1.600000e+01 1.010000e+02\n",
      "  2.050000e+00 1.090000e+00 6.300000e-01 4.100000e-01 3.270000e+00\n",
      "  1.250000e+00 1.670000e+00 6.800000e+02]\n",
      " [1.340000e+01 4.600000e+00 2.860000e+00 2.500000e+01 1.120000e+02\n",
      "  1.980000e+00 9.600000e-01 2.700000e-01 1.110000e+00 8.500000e+00\n",
      "  6.700000e-01 1.920000e+00 6.300000e+02]\n",
      " [1.277000e+01 2.390000e+00 2.280000e+00 1.950000e+01 8.600000e+01\n",
      "  1.390000e+00 5.100000e-01 4.800000e-01 6.400000e-01 9.899999e+00\n",
      "  5.700000e-01 1.630000e+00 4.700000e+02]\n",
      " [1.378000e+01 2.760000e+00 2.300000e+00 2.200000e+01 9.000000e+01\n",
      "  1.350000e+00 6.800000e-01 4.100000e-01 1.030000e+00 9.580000e+00\n",
      "  7.000000e-01 1.680000e+00 6.150000e+02]\n",
      " [1.242000e+01 1.610000e+00 2.190000e+00 2.250000e+01 1.080000e+02\n",
      "  2.000000e+00 2.090000e+00 3.400000e-01 1.610000e+00 2.060000e+00\n",
      "  1.060000e+00 2.960000e+00 3.450000e+02]\n",
      " [1.237000e+01 1.210000e+00 2.560000e+00 1.810000e+01 9.800000e+01\n",
      "  2.420000e+00 2.650000e+00 3.700000e-01 2.080000e+00 4.600000e+00\n",
      "  1.190000e+00 2.300000e+00 6.780000e+02]\n",
      " [1.208000e+01 1.830000e+00 2.320000e+00 1.850000e+01 8.100000e+01\n",
      "  1.600000e+00 1.500000e+00 5.200000e-01 1.640000e+00 2.400000e+00\n",
      "  1.080000e+00 2.270000e+00 4.800000e+02]\n",
      " [1.356000e+01 1.730000e+00 2.460000e+00 2.050000e+01 1.160000e+02\n",
      "  2.960000e+00 2.780000e+00 2.000000e-01 2.450000e+00 6.250000e+00\n",
      "  9.800000e-01 3.030000e+00 1.120000e+03]\n",
      " [1.402000e+01 1.680000e+00 2.210000e+00 1.600000e+01 9.600000e+01\n",
      "  2.650000e+00 2.330000e+00 2.600000e-01 1.980000e+00 4.700000e+00\n",
      "  1.040000e+00 3.590000e+00 1.035000e+03]\n",
      " [1.237000e+01 1.630000e+00 2.300000e+00 2.450000e+01 8.800000e+01\n",
      "  2.220000e+00 2.450000e+00 4.000000e-01 1.900000e+00 2.120000e+00\n",
      "  8.900000e-01 2.780000e+00 3.420000e+02]\n",
      " [1.316000e+01 3.570000e+00 2.150000e+00 2.100000e+01 1.020000e+02\n",
      "  1.500000e+00 5.500000e-01 4.300000e-01 1.300000e+00 4.000000e+00\n",
      "  6.000000e-01 1.680000e+00 8.300000e+02]\n",
      " [1.358000e+01 1.660000e+00 2.360000e+00 1.910000e+01 1.060000e+02\n",
      "  2.860000e+00 3.190000e+00 2.200000e-01 1.950000e+00 6.900000e+00\n",
      "  1.090000e+00 2.880000e+00 1.515000e+03]\n",
      " [1.375000e+01 1.730000e+00 2.410000e+00 1.600000e+01 8.900000e+01\n",
      "  2.600000e+00 2.760000e+00 2.900000e-01 1.810000e+00 5.600000e+00\n",
      "  1.150000e+00 2.900000e+00 1.320000e+03]\n",
      " [1.388000e+01 1.890000e+00 2.590000e+00 1.500000e+01 1.010000e+02\n",
      "  3.250000e+00 3.560000e+00 1.700000e-01 1.700000e+00 5.430000e+00\n",
      "  8.800000e-01 3.560000e+00 1.095000e+03]]\n",
      "\n",
      "\n",
      "[3 3 2 3 1 2 2 2 3 1 2 2 3 1 2 1 1 3 3 2 2 1 2 1 3 2 2 3 1 1 1 3 1 1 2 3 2\n",
      " 1 3 2 1 3 2 2 1 2 1 1 2 1 1 3 2 2 2 1 2 2 2 3 3 1 2 3 3 2 2 1 2 3 3 2 3 2\n",
      " 2 2 1 1 3 1 3 1 1 2 2 1 1 1 2 1 2 3 2 2 2 3 3 2 1 1 2 3 3 1 2 3 3 3 3 2 1\n",
      " 2 1 3 1 1 2 1 1 3 2 1 3 3 1 1 3 3 3 2 2 2 2 2 2 3 1 2 2 1 2 2]\n",
      "\n",
      "\n",
      "[1 1 3 1 2 1 2 3 2 3 1 3 1 2 1 2 2 2 1 2 1 2 2 3 3 3 2 2 2 1 1 2 3 1 1 1]\n",
      "\n",
      "\n"
     ]
    }
   ],
   "source": [
    "from sklearn.model_selection import train_test_split\n",
    "X_train, X_test, y_train, y_test = train_test_split(X, y, test_size = 0.2, random_state = 42)\n",
    "print(X_train)\n",
    "print('\\n')\n",
    "print(X_test)\n",
    "print('\\n')\n",
    "print(y_train)\n",
    "print('\\n')\n",
    "print(y_test)\n",
    "print('\\n')"
   ]
  },
  {
   "cell_type": "markdown",
   "id": "a9ce57ed-4e1d-49f9-a9cf-acc86d7c8792",
   "metadata": {},
   "source": [
    "### Feature Scaling"
   ]
  },
  {
   "cell_type": "code",
   "execution_count": 11,
   "id": "ba9b9faa-2f05-478f-b99f-70cb03522438",
   "metadata": {},
   "outputs": [],
   "source": [
    "from sklearn.preprocessing import StandardScaler\n",
    "sc = StandardScaler()\n",
    "X_train = sc.fit_transform(X_train)\n",
    "X_test = sc.transform(X_test)"
   ]
  },
  {
   "cell_type": "markdown",
   "id": "c8b076ae-61be-48af-a010-26c783768141",
   "metadata": {},
   "source": [
    "### Applying LDA"
   ]
  },
  {
   "cell_type": "code",
   "execution_count": 13,
   "id": "05000b90-05da-4cb1-8c0b-2ff305afcf12",
   "metadata": {},
   "outputs": [],
   "source": [
    "from sklearn.discriminant_analysis import LinearDiscriminantAnalysis as LDA\n",
    "lda = LDA(n_components = 2)\n",
    "X_train = lda.fit_transform(X_train, y_train)\n",
    "X_test = lda.transform(X_test)"
   ]
  },
  {
   "cell_type": "markdown",
   "id": "bb761642-ea8f-4b10-8718-21c289038fa6",
   "metadata": {},
   "source": [
    "### Training the Logistic Regression"
   ]
  },
  {
   "cell_type": "code",
   "execution_count": 15,
   "id": "39592963-de58-4fe2-8858-a057663250b2",
   "metadata": {},
   "outputs": [
    {
     "data": {
      "text/html": [
       "<style>#sk-container-id-1 {color: black;background-color: white;}#sk-container-id-1 pre{padding: 0;}#sk-container-id-1 div.sk-toggleable {background-color: white;}#sk-container-id-1 label.sk-toggleable__label {cursor: pointer;display: block;width: 100%;margin-bottom: 0;padding: 0.3em;box-sizing: border-box;text-align: center;}#sk-container-id-1 label.sk-toggleable__label-arrow:before {content: \"▸\";float: left;margin-right: 0.25em;color: #696969;}#sk-container-id-1 label.sk-toggleable__label-arrow:hover:before {color: black;}#sk-container-id-1 div.sk-estimator:hover label.sk-toggleable__label-arrow:before {color: black;}#sk-container-id-1 div.sk-toggleable__content {max-height: 0;max-width: 0;overflow: hidden;text-align: left;background-color: #f0f8ff;}#sk-container-id-1 div.sk-toggleable__content pre {margin: 0.2em;color: black;border-radius: 0.25em;background-color: #f0f8ff;}#sk-container-id-1 input.sk-toggleable__control:checked~div.sk-toggleable__content {max-height: 200px;max-width: 100%;overflow: auto;}#sk-container-id-1 input.sk-toggleable__control:checked~label.sk-toggleable__label-arrow:before {content: \"▾\";}#sk-container-id-1 div.sk-estimator input.sk-toggleable__control:checked~label.sk-toggleable__label {background-color: #d4ebff;}#sk-container-id-1 div.sk-label input.sk-toggleable__control:checked~label.sk-toggleable__label {background-color: #d4ebff;}#sk-container-id-1 input.sk-hidden--visually {border: 0;clip: rect(1px 1px 1px 1px);clip: rect(1px, 1px, 1px, 1px);height: 1px;margin: -1px;overflow: hidden;padding: 0;position: absolute;width: 1px;}#sk-container-id-1 div.sk-estimator {font-family: monospace;background-color: #f0f8ff;border: 1px dotted black;border-radius: 0.25em;box-sizing: border-box;margin-bottom: 0.5em;}#sk-container-id-1 div.sk-estimator:hover {background-color: #d4ebff;}#sk-container-id-1 div.sk-parallel-item::after {content: \"\";width: 100%;border-bottom: 1px solid gray;flex-grow: 1;}#sk-container-id-1 div.sk-label:hover label.sk-toggleable__label {background-color: #d4ebff;}#sk-container-id-1 div.sk-serial::before {content: \"\";position: absolute;border-left: 1px solid gray;box-sizing: border-box;top: 0;bottom: 0;left: 50%;z-index: 0;}#sk-container-id-1 div.sk-serial {display: flex;flex-direction: column;align-items: center;background-color: white;padding-right: 0.2em;padding-left: 0.2em;position: relative;}#sk-container-id-1 div.sk-item {position: relative;z-index: 1;}#sk-container-id-1 div.sk-parallel {display: flex;align-items: stretch;justify-content: center;background-color: white;position: relative;}#sk-container-id-1 div.sk-item::before, #sk-container-id-1 div.sk-parallel-item::before {content: \"\";position: absolute;border-left: 1px solid gray;box-sizing: border-box;top: 0;bottom: 0;left: 50%;z-index: -1;}#sk-container-id-1 div.sk-parallel-item {display: flex;flex-direction: column;z-index: 1;position: relative;background-color: white;}#sk-container-id-1 div.sk-parallel-item:first-child::after {align-self: flex-end;width: 50%;}#sk-container-id-1 div.sk-parallel-item:last-child::after {align-self: flex-start;width: 50%;}#sk-container-id-1 div.sk-parallel-item:only-child::after {width: 0;}#sk-container-id-1 div.sk-dashed-wrapped {border: 1px dashed gray;margin: 0 0.4em 0.5em 0.4em;box-sizing: border-box;padding-bottom: 0.4em;background-color: white;}#sk-container-id-1 div.sk-label label {font-family: monospace;font-weight: bold;display: inline-block;line-height: 1.2em;}#sk-container-id-1 div.sk-label-container {text-align: center;}#sk-container-id-1 div.sk-container {/* jupyter's `normalize.less` sets `[hidden] { display: none; }` but bootstrap.min.css set `[hidden] { display: none !important; }` so we also need the `!important` here to be able to override the default hidden behavior on the sphinx rendered scikit-learn.org. See: https://github.com/scikit-learn/scikit-learn/issues/21755 */display: inline-block !important;position: relative;}#sk-container-id-1 div.sk-text-repr-fallback {display: none;}</style><div id=\"sk-container-id-1\" class=\"sk-top-container\"><div class=\"sk-text-repr-fallback\"><pre>LogisticRegression(random_state=0)</pre><b>In a Jupyter environment, please rerun this cell to show the HTML representation or trust the notebook. <br />On GitHub, the HTML representation is unable to render, please try loading this page with nbviewer.org.</b></div><div class=\"sk-container\" hidden><div class=\"sk-item\"><div class=\"sk-estimator sk-toggleable\"><input class=\"sk-toggleable__control sk-hidden--visually\" id=\"sk-estimator-id-1\" type=\"checkbox\" checked><label for=\"sk-estimator-id-1\" class=\"sk-toggleable__label sk-toggleable__label-arrow\">LogisticRegression</label><div class=\"sk-toggleable__content\"><pre>LogisticRegression(random_state=0)</pre></div></div></div></div></div>"
      ],
      "text/plain": [
       "LogisticRegression(random_state=0)"
      ]
     },
     "execution_count": 15,
     "metadata": {},
     "output_type": "execute_result"
    }
   ],
   "source": [
    "from sklearn.linear_model import LogisticRegression\n",
    "classifier = LogisticRegression(random_state = 0)\n",
    "classifier.fit(X_train, y_train)"
   ]
  },
  {
   "cell_type": "markdown",
   "id": "17ee4c31-c8f7-40a1-9cfc-3b2eaaf31b80",
   "metadata": {},
   "source": [
    "### Making the Confusion Matrix"
   ]
  },
  {
   "cell_type": "code",
   "execution_count": 17,
   "id": "b9d4815e-bc1a-414e-9dfa-25666c8dc2c0",
   "metadata": {},
   "outputs": [
    {
     "name": "stdout",
     "output_type": "stream",
     "text": [
      "Confusion Matrix:\n",
      " [[14  0  0]\n",
      " [ 0 14  0]\n",
      " [ 0  0  8]]\n",
      "Accuracy: 1.0\n",
      "Precision (macro): 1.0\n",
      "Recall (macro): 1.0\n",
      "F1 Score (macro): 1.0\n"
     ]
    }
   ],
   "source": [
    "from sklearn.metrics import confusion_matrix, accuracy_score, f1_score, recall_score, precision_score\n",
    "y_pred = classifier.predict(X_test)\n",
    "cm = confusion_matrix(y_test, y_pred)\n",
    "print(\"Confusion Matrix:\\n\", cm)\n",
    "accuracy = accuracy_score(y_test, y_pred)\n",
    "print(\"Accuracy:\", accuracy)\n",
    "precision = precision_score(y_test, y_pred, average='macro')\n",
    "print(\"Precision (macro):\", precision)\n",
    "recall = recall_score(y_test, y_pred, average='macro')\n",
    "print(\"Recall (macro):\", recall)\n",
    "f1 = f1_score(y_test, y_pred, average='macro')\n",
    "print(\"F1 Score (macro):\", f1)"
   ]
  },
  {
   "cell_type": "markdown",
   "id": "3c64668b-7628-4726-81d4-b249fbab6f0d",
   "metadata": {},
   "source": [
    "### Visualising the Training set results"
   ]
  },
  {
   "cell_type": "code",
   "execution_count": 19,
   "id": "541dacf2-033e-45ff-b74b-72f232c8dc8e",
   "metadata": {},
   "outputs": [
    {
     "data": {
      "image/png": "[encoded data removed]",
      "text/plain": [
       "<Figure size 640x480 with 1 Axes>"
      ]
     },
     "metadata": {},
     "output_type": "display_data"
    }
   ],
   "source": [
    "from matplotlib.colors import ListedColormap\n",
    "\n",
    "X_set, y_set = X_train, y_train\n",
    "\n",
    "X1, X2 = np.meshgrid(\n",
    "    np.arange(start=X_set[:, 0].min() - 1, stop=X_set[:, 0].max() + 1, step=0.01),\n",
    "    np.arange(start=X_set[:, 1].min() - 1, stop=X_set[:, 1].max() + 1, step=0.01)\n",
    ")\n",
    "\n",
    "Z = classifier.predict(np.array([X1.ravel(), X2.ravel()]).T).reshape(X1.shape)\n",
    "\n",
    "plt.contourf(X1, X2, Z, alpha=0.75, cmap=ListedColormap(['red', 'green', 'blue']))\n",
    "plt.xlim(X1.min(), X1.max())\n",
    "plt.ylim(X2.min(), X2.max())\n",
    "\n",
    "for i, j in enumerate(np.unique(y_set)):\n",
    "    plt.scatter(X_set[y_set == j, 0], X_set[y_set == j, 1],\n",
    "                c=['red', 'green', 'blue'][i], label=j)\n",
    "\n",
    "plt.title('Logistic Regression using LDA (Training set)')\n",
    "plt.xlabel('PC1')\n",
    "plt.ylabel('PC2')\n",
    "plt.legend()\n",
    "plt.show()"
   ]
  },
  {
   "cell_type": "markdown",
   "id": "f15534f5-c948-4caf-9718-3c98ff2f71b1",
   "metadata": {},
   "source": [
    "### Visualising the Test set results"
   ]
  },
  {
   "cell_type": "code",
   "execution_count": 21,
   "id": "3ab2f292-15e5-413d-9863-a74981729611",
   "metadata": {},
   "outputs": [
    {
     "data": {
      "image/png": "[encoded data removed]",
      "text/plain": [
       "<Figure size 640x480 with 1 Axes>"
      ]
     },
     "metadata": {},
     "output_type": "display_data"
    }
   ],
   "source": [
    "from matplotlib.colors import ListedColormap\n",
    "\n",
    "X_set, y_set = X_test, y_test\n",
    "\n",
    "X1, X2 = np.meshgrid(\n",
    "    np.arange(start=X_set[:, 0].min() - 1, stop=X_set[:, 0].max() + 1, step=0.01),\n",
    "    np.arange(start=X_set[:, 1].min() - 1, stop=X_set[:, 1].max() + 1, step=0.01)\n",
    ")\n",
    "\n",
    "Z = classifier.predict(np.array([X1.ravel(), X2.ravel()]).T).reshape(X1.shape)\n",
    "\n",
    "plt.contourf(X1, X2, Z, alpha=0.75, cmap=ListedColormap(['red', 'green', 'blue']))\n",
    "plt.xlim(X1.min(), X1.max())\n",
    "plt.ylim(X2.min(), X2.max())\n",
    "\n",
    "for i, j in enumerate(np.unique(y_set)):\n",
    "    plt.scatter(X_set[y_set == j, 0], X_set[y_set == j, 1],\n",
    "                c=['red', 'green', 'blue'][i], label=j)\n",
    "\n",
    "plt.title('Logistic Regression using LDA (Test set)')\n",
    "plt.xlabel('PC1')\n",
    "plt.ylabel('PC2')\n",
    "plt.legend()\n",
    "plt.show()"
   ]
  }
 ],
 "metadata": {
  "kernelspec": {
   "display_name": "Python 3 (ipykernel)",
   "language": "python",
   "name": "python3"
  },
  "language_info": {
   "codemirror_mode": {
    "name": "ipython",
    "version": 3
   },
   "file_extension": ".py",
   "mimetype": "text/x-python",
   "name": "python",
   "nbconvert_exporter": "python",
   "pygments_lexer": "ipython3",
   "version": "3.11.7"
  }
 },
 "nbformat": 4,
 "nbformat_minor": 5
}
